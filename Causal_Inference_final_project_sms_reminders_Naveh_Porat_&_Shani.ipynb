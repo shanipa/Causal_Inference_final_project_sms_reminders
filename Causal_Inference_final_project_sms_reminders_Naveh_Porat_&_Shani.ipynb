{
 "cells": [
  {
   "cell_type": "code",
   "execution_count": null,
   "metadata": {},
   "outputs": [],
   "source": []
  },
  {
   "cell_type": "code",
   "execution_count": 1,
   "metadata": {},
   "outputs": [],
   "source": [
    "import numpy as np\n",
    "import pandas as pd \n",
    "import matplotlib.pyplot as plt\n",
    "import seaborn as sns\n",
    "from sklearn.linear_model import LogisticRegression\n",
    "from sklearn import preprocessing\n",
    "from sklearn.ensemble import GradientBoostingClassifier\n",
    "from scipy.stats import chi2_contingency\n",
    "from statsmodels.stats.contingency_tables import Table2x2\n",
    "from IPython.display import Markdown, display\n",
    "def printmd(string):\n",
    "    display(Markdown(string))\n",
    "from sklearn.metrics import (brier_score_loss, precision_score, recall_score,\n",
    "                             f1_score)\n",
    "from sklearn.calibration import CalibratedClassifierCV, calibration_curve"
   ]
  },
  {
   "cell_type": "code",
   "execution_count": 3,
   "metadata": {},
   "outputs": [],
   "source": [
    "df = pd.read_csv(\"KaggleV2-May-2016.csv\")"
   ]
  },
  {
   "cell_type": "code",
   "execution_count": 4,
   "metadata": {},
   "outputs": [
    {
     "data": {
      "text/plain": [
       "110527"
      ]
     },
     "execution_count": 4,
     "metadata": {},
     "output_type": "execute_result"
    }
   ],
   "source": [
    "initial_rows = len(df)\n",
    "initial_rows"
   ]
  },
  {
   "cell_type": "markdown",
   "metadata": {},
   "source": [
    "### Creating new features"
   ]
  },
  {
   "cell_type": "code",
   "execution_count": 5,
   "metadata": {},
   "outputs": [],
   "source": [
    "df.PatientId = df.PatientId.astype('string')\n",
    "df.AppointmentID = df.AppointmentID.astype('string')\n",
    "df.AppointmentDay = df.AppointmentDay.apply(lambda x: pd.Timestamp(x))\n",
    "df.ScheduledDay = df.ScheduledDay.apply(lambda x: pd.Timestamp(x))\n",
    "df['time_delta'] = df.AppointmentDay - df.ScheduledDay\n",
    "df['time_delta_weeks'] = df['time_delta'].apply(lambda x: (x.days+1)//7)\n",
    "df['time_delta_days'] = df['time_delta'].apply(lambda x: x.days+1)\n",
    "df['Appointment_weekday'] = df['AppointmentDay'].apply(lambda x: x.weekday)\n",
    "df['Age_decade'] = df['Age'].apply(lambda x: x // 10)\n",
    "df['No-show_bin'] = df['No-show'].apply(lambda x: 1 if x=='Yes' else 0)\n",
    "df['Handcap'] = df['Handcap'].apply(lambda x: 1 if x > 0 else 0)"
   ]
  },
  {
   "cell_type": "code",
   "execution_count": 6,
   "metadata": {},
   "outputs": [
    {
     "data": {
      "text/plain": [
       "Index(['PatientId', 'AppointmentID', 'Gender', 'ScheduledDay',\n",
       "       'AppointmentDay', 'Age', 'Neighbourhood', 'Scholarship', 'Hipertension',\n",
       "       'Diabetes', 'Alcoholism', 'Handcap', 'SMS_received', 'No-show',\n",
       "       'time_delta', 'time_delta_weeks', 'time_delta_days',\n",
       "       'Appointment_weekday', 'Age_decade', 'No-show_bin'],\n",
       "      dtype='object')"
      ]
     },
     "execution_count": 6,
     "metadata": {},
     "output_type": "execute_result"
    }
   ],
   "source": [
    "df.columns"
   ]
  },
  {
   "cell_type": "code",
   "execution_count": 7,
   "metadata": {},
   "outputs": [
    {
     "name": "stdout",
     "output_type": "stream",
     "text": [
      "2016-06-08 00:00:00+00:00\n",
      "2016-04-29 00:00:00+00:00\n"
     ]
    }
   ],
   "source": [
    "# dates\n",
    "print(df.AppointmentDay.max())\n",
    "print(df.AppointmentDay.min())"
   ]
  },
  {
   "cell_type": "code",
   "execution_count": 8,
   "metadata": {},
   "outputs": [
    {
     "data": {
      "text/plain": [
       "0.32102563174608917"
      ]
     },
     "execution_count": 8,
     "metadata": {},
     "output_type": "execute_result"
    }
   ],
   "source": [
    "# treatment\n",
    "df['SMS_received'].mean()"
   ]
  },
  {
   "cell_type": "code",
   "execution_count": 9,
   "metadata": {},
   "outputs": [
    {
     "data": {
      "text/plain": [
       "0.20193255946510807"
      ]
     },
     "execution_count": 9,
     "metadata": {},
     "output_type": "execute_result"
    }
   ],
   "source": [
    "# outcome\n",
    "df['No-show_bin'].mean()"
   ]
  },
  {
   "cell_type": "code",
   "execution_count": 10,
   "metadata": {},
   "outputs": [
    {
     "data": {
      "text/plain": [
       "F    0.649977\n",
       "M    0.350023\n",
       "Name: Gender, dtype: float64"
      ]
     },
     "execution_count": 10,
     "metadata": {},
     "output_type": "execute_result"
    }
   ],
   "source": [
    "# Gender\n",
    "df['Gender'].value_counts(normalize=True)"
   ]
  },
  {
   "cell_type": "code",
   "execution_count": 11,
   "metadata": {},
   "outputs": [
    {
     "data": {
      "text/plain": [
       "-6      0.000009\n",
       "-1      0.000036\n",
       " 0      0.348901\n",
       " 1      0.047165\n",
       " 2      0.060845\n",
       "          ...   \n",
       " 155    0.000090\n",
       " 162    0.000100\n",
       " 169    0.000072\n",
       " 176    0.000145\n",
       " 179    0.000090\n",
       "Name: time_delta_days, Length: 131, dtype: float64"
      ]
     },
     "execution_count": 11,
     "metadata": {},
     "output_type": "execute_result"
    }
   ],
   "source": [
    "# same day appoitments\n",
    "df['time_delta_days'].value_counts(normalize=True).sort_index()"
   ]
  },
  {
   "cell_type": "code",
   "execution_count": 12,
   "metadata": {},
   "outputs": [
    {
     "name": "stdout",
     "output_type": "stream",
     "text": [
      "no-show same day\n",
      "0.046593030491599255\n",
      "sms recived same day\n",
      "0.0\n"
     ]
    }
   ],
   "source": [
    "print(\"no-show same day\")\n",
    "print(df[df['time_delta_days']<1]['No-show_bin'].mean())\n",
    "print(\"sms recived same day\")\n",
    "print(df[df['time_delta_days']<3]['SMS_received'].mean())"
   ]
  },
  {
   "cell_type": "code",
   "execution_count": 13,
   "metadata": {},
   "outputs": [
    {
     "data": {
      "text/plain": [
       "Text(0.5, 0, 'Age')"
      ]
     },
     "execution_count": 13,
     "metadata": {},
     "output_type": "execute_result"
    },
    {
     "data": {
      "image/png": "[encoded data removed]",
      "text/plain": [
       "<Figure size 432x288 with 1 Axes>"
      ]
     },
     "metadata": {
      "needs_background": "light"
     },
     "output_type": "display_data"
    }
   ],
   "source": [
    "df[['PatientId','Age']].drop_duplicates()['Age'].hist()\n",
    "plt.title('Age Histogram')\n",
    "plt.ylabel('Number of patients')\n",
    "plt.xlabel('Age')"
   ]
  },
  {
   "cell_type": "code",
   "execution_count": 14,
   "metadata": {},
   "outputs": [
    {
     "data": {
      "text/plain": [
       "count    62299.000000\n",
       "mean         1.774138\n",
       "std          1.770324\n",
       "min          1.000000\n",
       "25%          1.000000\n",
       "50%          1.000000\n",
       "75%          2.000000\n",
       "max         88.000000\n",
       "Name: AppointmentID, dtype: float64"
      ]
     },
     "execution_count": 14,
     "metadata": {},
     "output_type": "execute_result"
    }
   ],
   "source": [
    "# how many people have more than one appoitment?\n",
    "app_count = df.groupby('PatientId').count()\n",
    "app_count['AppointmentID'].describe()"
   ]
  },
  {
   "cell_type": "markdown",
   "metadata": {},
   "source": [
    "## Data Cleaning"
   ]
  },
  {
   "cell_type": "code",
   "execution_count": 15,
   "metadata": {},
   "outputs": [
    {
     "data": {
      "text/html": [
       "<div>\n",
       "<style scoped>\n",
       "    .dataframe tbody tr th:only-of-type {\n",
       "        vertical-align: middle;\n",
       "    }\n",
       "\n",
       "    .dataframe tbody tr th {\n",
       "        vertical-align: top;\n",
       "    }\n",
       "\n",
       "    .dataframe thead th {\n",
       "        text-align: right;\n",
       "    }\n",
       "</style>\n",
       "<table border=\"1\" class=\"dataframe\">\n",
       "  <thead>\n",
       "    <tr style=\"text-align: right;\">\n",
       "      <th></th>\n",
       "      <th>PatientId</th>\n",
       "      <th>Gender</th>\n",
       "      <th>ScheduledDay</th>\n",
       "      <th>AppointmentDay</th>\n",
       "      <th>Age</th>\n",
       "      <th>Neighbourhood</th>\n",
       "      <th>Scholarship</th>\n",
       "      <th>Hipertension</th>\n",
       "      <th>Diabetes</th>\n",
       "      <th>Alcoholism</th>\n",
       "      <th>Handcap</th>\n",
       "      <th>SMS_received</th>\n",
       "      <th>No-show</th>\n",
       "      <th>time_delta</th>\n",
       "      <th>time_delta_weeks</th>\n",
       "      <th>time_delta_days</th>\n",
       "      <th>Appointment_weekday</th>\n",
       "      <th>Age_decade</th>\n",
       "      <th>No-show_bin</th>\n",
       "    </tr>\n",
       "    <tr>\n",
       "      <th>AppointmentID</th>\n",
       "      <th></th>\n",
       "      <th></th>\n",
       "      <th></th>\n",
       "      <th></th>\n",
       "      <th></th>\n",
       "      <th></th>\n",
       "      <th></th>\n",
       "      <th></th>\n",
       "      <th></th>\n",
       "      <th></th>\n",
       "      <th></th>\n",
       "      <th></th>\n",
       "      <th></th>\n",
       "      <th></th>\n",
       "      <th></th>\n",
       "      <th></th>\n",
       "      <th></th>\n",
       "      <th></th>\n",
       "      <th></th>\n",
       "    </tr>\n",
       "  </thead>\n",
       "  <tbody>\n",
       "  </tbody>\n",
       "</table>\n",
       "</div>"
      ],
      "text/plain": [
       "Empty DataFrame\n",
       "Columns: [PatientId, Gender, ScheduledDay, AppointmentDay, Age, Neighbourhood, Scholarship, Hipertension, Diabetes, Alcoholism, Handcap, SMS_received, No-show, time_delta, time_delta_weeks, time_delta_days, Appointment_weekday, Age_decade, No-show_bin]\n",
       "Index: []"
      ]
     },
     "execution_count": 15,
     "metadata": {},
     "output_type": "execute_result"
    }
   ],
   "source": [
    "# do we have duplicate records?\n",
    "tmp = df.groupby('AppointmentID').count()\n",
    "tmp[tmp.PatientId>1]"
   ]
  },
  {
   "cell_type": "markdown",
   "metadata": {},
   "source": [
    "### Step 1: removing appointments schedualed less than 3 days in advance"
   ]
  },
  {
   "cell_type": "code",
   "execution_count": 16,
   "metadata": {},
   "outputs": [
    {
     "name": "stdout",
     "output_type": "stream",
     "text": [
      "60021\n"
     ]
    }
   ],
   "source": [
    "cleaned_df = df[df['time_delta_days']>=3]\n",
    "print(len(cleaned_df))"
   ]
  },
  {
   "cell_type": "markdown",
   "metadata": {},
   "source": [
    "### Step 2: removing young children"
   ]
  },
  {
   "cell_type": "code",
   "execution_count": 17,
   "metadata": {},
   "outputs": [
    {
     "name": "stdout",
     "output_type": "stream",
     "text": [
      "48003\n"
     ]
    }
   ],
   "source": [
    "cleaned_df = cleaned_df[cleaned_df.Age>14].copy()\n",
    "print(len(cleaned_df))"
   ]
  },
  {
   "cell_type": "markdown",
   "metadata": {},
   "source": [
    "### Step 3: removing outliers - people older than 100 or time delts weeks < 14"
   ]
  },
  {
   "cell_type": "code",
   "execution_count": 18,
   "metadata": {},
   "outputs": [
    {
     "name": "stdout",
     "output_type": "stream",
     "text": [
      "47870\n"
     ]
    }
   ],
   "source": [
    "cleaned_df = cleaned_df[(cleaned_df.time_delta_weeks < 14)&(cleaned_df.Age < 100)].copy()\n",
    "print(len(cleaned_df))"
   ]
  },
  {
   "cell_type": "markdown",
   "metadata": {},
   "source": [
    "### Step 4: reamaning patients with more than one appointment"
   ]
  },
  {
   "cell_type": "code",
   "execution_count": 19,
   "metadata": {},
   "outputs": [
    {
     "data": {
      "text/plain": [
       "count    31846.000000\n",
       "mean         1.503172\n",
       "std          1.065468\n",
       "min          1.000000\n",
       "25%          1.000000\n",
       "50%          1.000000\n",
       "75%          2.000000\n",
       "max         26.000000\n",
       "Name: AppointmentID, dtype: float64"
      ]
     },
     "execution_count": 19,
     "metadata": {},
     "output_type": "execute_result"
    }
   ],
   "source": [
    "app_count = cleaned_df.groupby('PatientId').count()\n",
    "app_count['AppointmentID'].describe()"
   ]
  },
  {
   "cell_type": "code",
   "execution_count": 20,
   "metadata": {},
   "outputs": [
    {
     "name": "stdout",
     "output_type": "stream",
     "text": [
      "How many patients have more than 1 appoitment record?\n",
      "0.29758839414683164\n"
     ]
    }
   ],
   "source": [
    "print(\"How many patients have more than 1 appoitment record?\")\n",
    "print(len(app_count[app_count.AppointmentID>1])/len(app_count))"
   ]
  },
  {
   "cell_type": "code",
   "execution_count": 21,
   "metadata": {},
   "outputs": [],
   "source": [
    "app_count1 = app_count[app_count.AppointmentID<2]\n",
    "app_count2 = app_count[app_count.AppointmentID>1]"
   ]
  },
  {
   "cell_type": "code",
   "execution_count": 22,
   "metadata": {},
   "outputs": [
    {
     "name": "stdout",
     "output_type": "stream",
     "text": [
      "One appointment no-show:\n",
      "0.27940453305914437\n",
      "more than one appointment no-show:\n",
      "0.29908631034077093\n"
     ]
    }
   ],
   "source": [
    "print(\"One appointment no-show:\")\n",
    "print(cleaned_df[cleaned_df.PatientId.isin(app_count1.reset_index().PatientId)]['No-show_bin'].mean())\n",
    "print(\"more than one appointment no-show:\")\n",
    "print(cleaned_df[cleaned_df.PatientId.isin(app_count2.reset_index().PatientId)]['No-show_bin'].mean())"
   ]
  },
  {
   "cell_type": "code",
   "execution_count": 23,
   "metadata": {},
   "outputs": [
    {
     "data": {
      "text/plain": [
       "0.5327135993315228"
      ]
     },
     "execution_count": 23,
     "metadata": {},
     "output_type": "execute_result"
    }
   ],
   "source": [
    "# how many will be removed if we will remove all with more than 1 appointments\n",
    "len(cleaned_df[cleaned_df.PatientId.isin(app_count2.reset_index().PatientId)])/len(cleaned_df)"
   ]
  },
  {
   "cell_type": "markdown",
   "metadata": {},
   "source": [
    "#### randomly choosing an appointment "
   ]
  },
  {
   "cell_type": "code",
   "execution_count": 24,
   "metadata": {},
   "outputs": [],
   "source": [
    "cleaned_df = cleaned_df.groupby(\"PatientId\").sample(n=1, random_state=42).copy()"
   ]
  },
  {
   "cell_type": "code",
   "execution_count": 310,
   "metadata": {},
   "outputs": [],
   "source": [
    "cleaned_df.to_csv(\"final_clean_df.csv\")"
   ]
  },
  {
   "cell_type": "code",
   "execution_count": 25,
   "metadata": {},
   "outputs": [
    {
     "name": "stdout",
     "output_type": "stream",
     "text": [
      "31846\n"
     ]
    }
   ],
   "source": [
    "print(len(cleaned_df))"
   ]
  },
  {
   "cell_type": "code",
   "execution_count": 26,
   "metadata": {},
   "outputs": [
    {
     "data": {
      "text/plain": [
       "0.6043773158324436"
      ]
     },
     "execution_count": 26,
     "metadata": {},
     "output_type": "execute_result"
    }
   ],
   "source": [
    "# treatment\n",
    "cleaned_df['SMS_received'].mean()"
   ]
  },
  {
   "cell_type": "code",
   "execution_count": 27,
   "metadata": {},
   "outputs": [
    {
     "data": {
      "text/plain": [
       "0.2862839917101049"
      ]
     },
     "execution_count": 27,
     "metadata": {},
     "output_type": "execute_result"
    }
   ],
   "source": [
    "# outcome\n",
    "cleaned_df['No-show_bin'].mean()"
   ]
  },
  {
   "cell_type": "markdown",
   "metadata": {},
   "source": [
    "#### more exploration"
   ]
  },
  {
   "cell_type": "code",
   "execution_count": 69,
   "metadata": {},
   "outputs": [
    {
     "data": {
      "text/plain": [
       "<AxesSubplot:xlabel='Age_decade', ylabel='No_show_up_%'>"
      ]
     },
     "execution_count": 69,
     "metadata": {},
     "output_type": "execute_result"
    },
    {
     "data": {
      "image/png": "[encoded data removed]",
      "text/plain": [
       "<Figure size 432x288 with 1 Axes>"
      ]
     },
     "metadata": {
      "needs_background": "light"
     },
     "output_type": "display_data"
    }
   ],
   "source": [
    "df_sum = cleaned_df.groupby([\"Age_decade\",'SMS_received',\"No-show\"]).agg({\"PatientId\":\"count\"}).reset_index()\n",
    "df_sum = pd.pivot(df_sum ,index=['Age_decade',\"SMS_received\"], columns=\"No-show\", values=\"PatientId\")\n",
    "df_sum = df_sum.dropna()\n",
    "df_sum['total'] = df_sum['No'] + df_sum['Yes']\n",
    "df_sum['No_show_up_%'] = df_sum['Yes']/df_sum['total']\n",
    "df_sum = df_sum.reset_index()\n",
    "sns.scatterplot(data=df_sum, x=\"Age_decade\",y='No_show_up_%',hue='SMS_received')"
   ]
  },
  {
   "cell_type": "code",
   "execution_count": 62,
   "metadata": {},
   "outputs": [
    {
     "data": {
      "text/html": [
       "<div>\n",
       "<style scoped>\n",
       "    .dataframe tbody tr th:only-of-type {\n",
       "        vertical-align: middle;\n",
       "    }\n",
       "\n",
       "    .dataframe tbody tr th {\n",
       "        vertical-align: top;\n",
       "    }\n",
       "\n",
       "    .dataframe thead th {\n",
       "        text-align: right;\n",
       "    }\n",
       "</style>\n",
       "<table border=\"1\" class=\"dataframe\">\n",
       "  <thead>\n",
       "    <tr style=\"text-align: right;\">\n",
       "      <th></th>\n",
       "      <th>Age</th>\n",
       "      <th>SMS_received</th>\n",
       "      <th>PatientId</th>\n",
       "    </tr>\n",
       "  </thead>\n",
       "  <tbody>\n",
       "    <tr>\n",
       "      <th>0</th>\n",
       "      <td>15</td>\n",
       "      <td>0</td>\n",
       "      <td>106</td>\n",
       "    </tr>\n",
       "    <tr>\n",
       "      <th>1</th>\n",
       "      <td>15</td>\n",
       "      <td>1</td>\n",
       "      <td>149</td>\n",
       "    </tr>\n",
       "    <tr>\n",
       "      <th>2</th>\n",
       "      <td>16</td>\n",
       "      <td>0</td>\n",
       "      <td>141</td>\n",
       "    </tr>\n",
       "    <tr>\n",
       "      <th>3</th>\n",
       "      <td>16</td>\n",
       "      <td>1</td>\n",
       "      <td>175</td>\n",
       "    </tr>\n",
       "    <tr>\n",
       "      <th>4</th>\n",
       "      <td>17</td>\n",
       "      <td>0</td>\n",
       "      <td>118</td>\n",
       "    </tr>\n",
       "    <tr>\n",
       "      <th>...</th>\n",
       "      <td>...</td>\n",
       "      <td>...</td>\n",
       "      <td>...</td>\n",
       "    </tr>\n",
       "    <tr>\n",
       "      <th>161</th>\n",
       "      <td>95</td>\n",
       "      <td>1</td>\n",
       "      <td>3</td>\n",
       "    </tr>\n",
       "    <tr>\n",
       "      <th>162</th>\n",
       "      <td>96</td>\n",
       "      <td>0</td>\n",
       "      <td>2</td>\n",
       "    </tr>\n",
       "    <tr>\n",
       "      <th>163</th>\n",
       "      <td>97</td>\n",
       "      <td>0</td>\n",
       "      <td>5</td>\n",
       "    </tr>\n",
       "    <tr>\n",
       "      <th>164</th>\n",
       "      <td>98</td>\n",
       "      <td>0</td>\n",
       "      <td>1</td>\n",
       "    </tr>\n",
       "    <tr>\n",
       "      <th>165</th>\n",
       "      <td>98</td>\n",
       "      <td>1</td>\n",
       "      <td>2</td>\n",
       "    </tr>\n",
       "  </tbody>\n",
       "</table>\n",
       "<p>166 rows × 3 columns</p>\n",
       "</div>"
      ],
      "text/plain": [
       "     Age  SMS_received  PatientId\n",
       "0     15             0        106\n",
       "1     15             1        149\n",
       "2     16             0        141\n",
       "3     16             1        175\n",
       "4     17             0        118\n",
       "..   ...           ...        ...\n",
       "161   95             1          3\n",
       "162   96             0          2\n",
       "163   97             0          5\n",
       "164   98             0          1\n",
       "165   98             1          2\n",
       "\n",
       "[166 rows x 3 columns]"
      ]
     },
     "execution_count": 62,
     "metadata": {},
     "output_type": "execute_result"
    }
   ],
   "source": [
    "df_sum"
   ]
  },
  {
   "cell_type": "markdown",
   "metadata": {},
   "source": [
    "# Balancing"
   ]
  },
  {
   "cell_type": "code",
   "execution_count": 28,
   "metadata": {},
   "outputs": [],
   "source": [
    "treated = cleaned_df[cleaned_df['SMS_received'] == 1]\n",
    "control = cleaned_df[cleaned_df['SMS_received'] == 0]"
   ]
  },
  {
   "cell_type": "code",
   "execution_count": 29,
   "metadata": {},
   "outputs": [],
   "source": [
    "def column_balance(df, column):\n",
    "    counts = df.groupby(['SMS_received', column]).count().PatientId\n",
    "    percentages = counts.groupby(level=0).apply(lambda x: round(100 * x / float(x.sum()), 2)).copy()\n",
    "    counts.rename('No.', inplace=True)\n",
    "    percentages.rename(\"%\", inplace=True)\n",
    "    balance = pd.concat([counts, percentages], axis=1).reset_index()\n",
    "    balance = pd.melt(balance, id_vars=['SMS_received',column], value_vars =['No.','%'])\n",
    "    balance = pd.pivot_table(balance, index=column, columns=['SMS_received', 'variable'])\n",
    "    return balance"
   ]
  },
  {
   "cell_type": "code",
   "execution_count": 140,
   "metadata": {},
   "outputs": [],
   "source": [
    "def column_balance_prop(df, column):\n",
    "    \n",
    "    percentages = df.groupby(['SMS_received', column]).agg({'est':'sum'}).copy()\n",
    "    balance = percentages.reset_index()\n",
    "    balance = pd.pivot_table(balance, index=column, columns=['SMS_received'], values='est')\n",
    "    balance[0] = balance[0]/sum(balance[0])\n",
    "    balance[1] = balance[1]/sum(balance[1])\n",
    "\n",
    "    return balance"
   ]
  },
  {
   "cell_type": "code",
   "execution_count": 133,
   "metadata": {},
   "outputs": [],
   "source": [
    "def chi_square_test(df, column):\n",
    "    counts = df.groupby(['SMS_received', column]).count().PatientId\n",
    "    counts = pd.DataFrame(counts)\n",
    "    pivoted = pd.pivot_table(counts, index='SMS_received', columns=column)\n",
    "    chi2, p_value = chi2_contingency(pivoted)[:2]\n",
    "    res = pd.DataFrame(data=[[round(chi2,2), p_value]], columns=['Chi Square','p value'], index=[column])\n",
    "    res['p value'] = res['p value'].apply(lambda x: round(x, 3) if x>=0.005 else '<0.005')\n",
    "    return res"
   ]
  },
  {
   "cell_type": "code",
   "execution_count": 134,
   "metadata": {},
   "outputs": [],
   "source": [
    "def chi_square_test_prop(pivoted, column):\n",
    "    chi2, p_value = chi2_contingency(pivoted)[:2]\n",
    "    res = pd.DataFrame(data=[[round(chi2,2), p_value]], columns=['Chi Square','p value'], index=[column])\n",
    "    res['p value'] = res['p value'].apply(lambda x: round(x, 3) if x>=0.005 else '<0.005')\n",
    "    return res"
   ]
  },
  {
   "cell_type": "code",
   "execution_count": 135,
   "metadata": {},
   "outputs": [],
   "source": [
    "cat_columns = ['Gender', 'Scholarship', 'Hipertension',\n",
    "       'Diabetes', 'Alcoholism', 'Handcap', 'time_delta_weeks', 'Age_decade', 'No-show']"
   ]
  },
  {
   "cell_type": "code",
   "execution_count": 136,
   "metadata": {},
   "outputs": [],
   "source": [
    "def print_balance_table(df, columns=cat_columns):\n",
    "    df_list = []\n",
    "    chi_list = []\n",
    "    for column in columns:\n",
    "        df_list.append(column_balance(df, column))\n",
    "        chi_list.append(chi_square_test(df, column))\n",
    "    balance = pd.concat(df_list, keys=cat_columns)\n",
    "    chi = pd.concat(chi_list, keys=cat_columns)\n",
    "    return balance, chi"
   ]
  },
  {
   "cell_type": "code",
   "execution_count": 137,
   "metadata": {},
   "outputs": [],
   "source": [
    "def print_balance_table_est(df, est, columns=cat_columns):\n",
    "    df_list = []\n",
    "    chi_list = []\n",
    "    df['est'] = est\n",
    "    for column in columns:\n",
    "        pivoted = column_balance_prop(df, column)\n",
    "        df_list.append(pivoted)\n",
    "        chi_list.append(chi_square_test_prop(pivoted.T, column))\n",
    "    balance = pd.concat(df_list, keys=cat_columns)\n",
    "    chi = pd.concat(chi_list, keys=cat_columns)\n",
    "    return balance, chi"
   ]
  },
  {
   "cell_type": "code",
   "execution_count": 36,
   "metadata": {},
   "outputs": [
    {
     "data": {
      "text/html": [
       "<div>\n",
       "<style scoped>\n",
       "    .dataframe tbody tr th:only-of-type {\n",
       "        vertical-align: middle;\n",
       "    }\n",
       "\n",
       "    .dataframe tbody tr th {\n",
       "        vertical-align: top;\n",
       "    }\n",
       "\n",
       "    .dataframe thead tr th {\n",
       "        text-align: left;\n",
       "    }\n",
       "</style>\n",
       "<table border=\"1\" class=\"dataframe\">\n",
       "  <thead>\n",
       "    <tr>\n",
       "      <th></th>\n",
       "      <th></th>\n",
       "      <th colspan=\"4\" halign=\"left\">value</th>\n",
       "    </tr>\n",
       "    <tr>\n",
       "      <th></th>\n",
       "      <th>SMS_received</th>\n",
       "      <th colspan=\"2\" halign=\"left\">0</th>\n",
       "      <th colspan=\"2\" halign=\"left\">1</th>\n",
       "    </tr>\n",
       "    <tr>\n",
       "      <th></th>\n",
       "      <th>variable</th>\n",
       "      <th>%</th>\n",
       "      <th>No.</th>\n",
       "      <th>%</th>\n",
       "      <th>No.</th>\n",
       "    </tr>\n",
       "  </thead>\n",
       "  <tbody>\n",
       "    <tr>\n",
       "      <th rowspan=\"2\" valign=\"top\">Gender</th>\n",
       "      <th>F</th>\n",
       "      <td>68.66</td>\n",
       "      <td>8650.0</td>\n",
       "      <td>71.69</td>\n",
       "      <td>13798.0</td>\n",
       "    </tr>\n",
       "    <tr>\n",
       "      <th>M</th>\n",
       "      <td>31.34</td>\n",
       "      <td>3949.0</td>\n",
       "      <td>28.31</td>\n",
       "      <td>5449.0</td>\n",
       "    </tr>\n",
       "    <tr>\n",
       "      <th rowspan=\"2\" valign=\"top\">Scholarship</th>\n",
       "      <th>0</th>\n",
       "      <td>91.36</td>\n",
       "      <td>11511.0</td>\n",
       "      <td>90.58</td>\n",
       "      <td>17433.0</td>\n",
       "    </tr>\n",
       "    <tr>\n",
       "      <th>1</th>\n",
       "      <td>8.64</td>\n",
       "      <td>1088.0</td>\n",
       "      <td>9.42</td>\n",
       "      <td>1814.0</td>\n",
       "    </tr>\n",
       "    <tr>\n",
       "      <th rowspan=\"2\" valign=\"top\">Hipertension</th>\n",
       "      <th>0</th>\n",
       "      <td>73.68</td>\n",
       "      <td>9283.0</td>\n",
       "      <td>75.77</td>\n",
       "      <td>14583.0</td>\n",
       "    </tr>\n",
       "    <tr>\n",
       "      <th>1</th>\n",
       "      <td>26.32</td>\n",
       "      <td>3316.0</td>\n",
       "      <td>24.23</td>\n",
       "      <td>4664.0</td>\n",
       "    </tr>\n",
       "    <tr>\n",
       "      <th rowspan=\"2\" valign=\"top\">Diabetes</th>\n",
       "      <th>0</th>\n",
       "      <td>90.95</td>\n",
       "      <td>11459.0</td>\n",
       "      <td>91.68</td>\n",
       "      <td>17646.0</td>\n",
       "    </tr>\n",
       "    <tr>\n",
       "      <th>1</th>\n",
       "      <td>9.05</td>\n",
       "      <td>1140.0</td>\n",
       "      <td>8.32</td>\n",
       "      <td>1601.0</td>\n",
       "    </tr>\n",
       "    <tr>\n",
       "      <th rowspan=\"2\" valign=\"top\">Alcoholism</th>\n",
       "      <th>0</th>\n",
       "      <td>96.71</td>\n",
       "      <td>12185.0</td>\n",
       "      <td>97.20</td>\n",
       "      <td>18709.0</td>\n",
       "    </tr>\n",
       "    <tr>\n",
       "      <th>1</th>\n",
       "      <td>3.29</td>\n",
       "      <td>414.0</td>\n",
       "      <td>2.80</td>\n",
       "      <td>538.0</td>\n",
       "    </tr>\n",
       "    <tr>\n",
       "      <th rowspan=\"2\" valign=\"top\">Handcap</th>\n",
       "      <th>0</th>\n",
       "      <td>97.87</td>\n",
       "      <td>12331.0</td>\n",
       "      <td>98.20</td>\n",
       "      <td>18900.0</td>\n",
       "    </tr>\n",
       "    <tr>\n",
       "      <th>1</th>\n",
       "      <td>2.13</td>\n",
       "      <td>268.0</td>\n",
       "      <td>1.80</td>\n",
       "      <td>347.0</td>\n",
       "    </tr>\n",
       "    <tr>\n",
       "      <th rowspan=\"14\" valign=\"top\">time_delta_weeks</th>\n",
       "      <th>0</th>\n",
       "      <td>28.72</td>\n",
       "      <td>3618.0</td>\n",
       "      <td>25.09</td>\n",
       "      <td>4829.0</td>\n",
       "    </tr>\n",
       "    <tr>\n",
       "      <th>1</th>\n",
       "      <td>20.45</td>\n",
       "      <td>2576.0</td>\n",
       "      <td>21.12</td>\n",
       "      <td>4065.0</td>\n",
       "    </tr>\n",
       "    <tr>\n",
       "      <th>2</th>\n",
       "      <td>16.09</td>\n",
       "      <td>2027.0</td>\n",
       "      <td>15.55</td>\n",
       "      <td>2993.0</td>\n",
       "    </tr>\n",
       "    <tr>\n",
       "      <th>3</th>\n",
       "      <td>11.22</td>\n",
       "      <td>1413.0</td>\n",
       "      <td>12.53</td>\n",
       "      <td>2411.0</td>\n",
       "    </tr>\n",
       "    <tr>\n",
       "      <th>4</th>\n",
       "      <td>11.54</td>\n",
       "      <td>1454.0</td>\n",
       "      <td>10.33</td>\n",
       "      <td>1989.0</td>\n",
       "    </tr>\n",
       "    <tr>\n",
       "      <th>5</th>\n",
       "      <td>4.01</td>\n",
       "      <td>505.0</td>\n",
       "      <td>5.39</td>\n",
       "      <td>1037.0</td>\n",
       "    </tr>\n",
       "    <tr>\n",
       "      <th>6</th>\n",
       "      <td>2.06</td>\n",
       "      <td>259.0</td>\n",
       "      <td>2.51</td>\n",
       "      <td>483.0</td>\n",
       "    </tr>\n",
       "    <tr>\n",
       "      <th>7</th>\n",
       "      <td>1.47</td>\n",
       "      <td>185.0</td>\n",
       "      <td>1.72</td>\n",
       "      <td>332.0</td>\n",
       "    </tr>\n",
       "    <tr>\n",
       "      <th>8</th>\n",
       "      <td>1.10</td>\n",
       "      <td>138.0</td>\n",
       "      <td>2.08</td>\n",
       "      <td>400.0</td>\n",
       "    </tr>\n",
       "    <tr>\n",
       "      <th>9</th>\n",
       "      <td>1.20</td>\n",
       "      <td>151.0</td>\n",
       "      <td>1.97</td>\n",
       "      <td>380.0</td>\n",
       "    </tr>\n",
       "    <tr>\n",
       "      <th>10</th>\n",
       "      <td>1.22</td>\n",
       "      <td>154.0</td>\n",
       "      <td>0.77</td>\n",
       "      <td>149.0</td>\n",
       "    </tr>\n",
       "    <tr>\n",
       "      <th>11</th>\n",
       "      <td>0.55</td>\n",
       "      <td>69.0</td>\n",
       "      <td>0.12</td>\n",
       "      <td>23.0</td>\n",
       "    </tr>\n",
       "    <tr>\n",
       "      <th>12</th>\n",
       "      <td>0.26</td>\n",
       "      <td>33.0</td>\n",
       "      <td>0.65</td>\n",
       "      <td>126.0</td>\n",
       "    </tr>\n",
       "    <tr>\n",
       "      <th>13</th>\n",
       "      <td>0.13</td>\n",
       "      <td>17.0</td>\n",
       "      <td>0.16</td>\n",
       "      <td>30.0</td>\n",
       "    </tr>\n",
       "    <tr>\n",
       "      <th rowspan=\"9\" valign=\"top\">Age_decade</th>\n",
       "      <th>1</th>\n",
       "      <td>7.98</td>\n",
       "      <td>1006.0</td>\n",
       "      <td>7.51</td>\n",
       "      <td>1446.0</td>\n",
       "    </tr>\n",
       "    <tr>\n",
       "      <th>2</th>\n",
       "      <td>14.87</td>\n",
       "      <td>1873.0</td>\n",
       "      <td>16.07</td>\n",
       "      <td>3093.0</td>\n",
       "    </tr>\n",
       "    <tr>\n",
       "      <th>3</th>\n",
       "      <td>16.20</td>\n",
       "      <td>2041.0</td>\n",
       "      <td>17.29</td>\n",
       "      <td>3327.0</td>\n",
       "    </tr>\n",
       "    <tr>\n",
       "      <th>4</th>\n",
       "      <td>15.39</td>\n",
       "      <td>1939.0</td>\n",
       "      <td>16.24</td>\n",
       "      <td>3125.0</td>\n",
       "    </tr>\n",
       "    <tr>\n",
       "      <th>5</th>\n",
       "      <td>18.23</td>\n",
       "      <td>2297.0</td>\n",
       "      <td>18.85</td>\n",
       "      <td>3629.0</td>\n",
       "    </tr>\n",
       "    <tr>\n",
       "      <th>6</th>\n",
       "      <td>14.18</td>\n",
       "      <td>1787.0</td>\n",
       "      <td>14.30</td>\n",
       "      <td>2753.0</td>\n",
       "    </tr>\n",
       "    <tr>\n",
       "      <th>7</th>\n",
       "      <td>8.23</td>\n",
       "      <td>1037.0</td>\n",
       "      <td>6.61</td>\n",
       "      <td>1273.0</td>\n",
       "    </tr>\n",
       "    <tr>\n",
       "      <th>8</th>\n",
       "      <td>4.31</td>\n",
       "      <td>543.0</td>\n",
       "      <td>2.78</td>\n",
       "      <td>536.0</td>\n",
       "    </tr>\n",
       "    <tr>\n",
       "      <th>9</th>\n",
       "      <td>0.60</td>\n",
       "      <td>76.0</td>\n",
       "      <td>0.34</td>\n",
       "      <td>65.0</td>\n",
       "    </tr>\n",
       "    <tr>\n",
       "      <th rowspan=\"2\" valign=\"top\">No-show</th>\n",
       "      <th>No</th>\n",
       "      <td>68.58</td>\n",
       "      <td>8640.0</td>\n",
       "      <td>73.20</td>\n",
       "      <td>14089.0</td>\n",
       "    </tr>\n",
       "    <tr>\n",
       "      <th>Yes</th>\n",
       "      <td>31.42</td>\n",
       "      <td>3959.0</td>\n",
       "      <td>26.80</td>\n",
       "      <td>5158.0</td>\n",
       "    </tr>\n",
       "  </tbody>\n",
       "</table>\n",
       "</div>"
      ],
      "text/plain": [
       "                      value                         \n",
       "SMS_received              0               1         \n",
       "variable                  %      No.      %      No.\n",
       "Gender           F    68.66   8650.0  71.69  13798.0\n",
       "                 M    31.34   3949.0  28.31   5449.0\n",
       "Scholarship      0    91.36  11511.0  90.58  17433.0\n",
       "                 1     8.64   1088.0   9.42   1814.0\n",
       "Hipertension     0    73.68   9283.0  75.77  14583.0\n",
       "                 1    26.32   3316.0  24.23   4664.0\n",
       "Diabetes         0    90.95  11459.0  91.68  17646.0\n",
       "                 1     9.05   1140.0   8.32   1601.0\n",
       "Alcoholism       0    96.71  12185.0  97.20  18709.0\n",
       "                 1     3.29    414.0   2.80    538.0\n",
       "Handcap          0    97.87  12331.0  98.20  18900.0\n",
       "                 1     2.13    268.0   1.80    347.0\n",
       "time_delta_weeks 0    28.72   3618.0  25.09   4829.0\n",
       "                 1    20.45   2576.0  21.12   4065.0\n",
       "                 2    16.09   2027.0  15.55   2993.0\n",
       "                 3    11.22   1413.0  12.53   2411.0\n",
       "                 4    11.54   1454.0  10.33   1989.0\n",
       "                 5     4.01    505.0   5.39   1037.0\n",
       "                 6     2.06    259.0   2.51    483.0\n",
       "                 7     1.47    185.0   1.72    332.0\n",
       "                 8     1.10    138.0   2.08    400.0\n",
       "                 9     1.20    151.0   1.97    380.0\n",
       "                 10    1.22    154.0   0.77    149.0\n",
       "                 11    0.55     69.0   0.12     23.0\n",
       "                 12    0.26     33.0   0.65    126.0\n",
       "                 13    0.13     17.0   0.16     30.0\n",
       "Age_decade       1     7.98   1006.0   7.51   1446.0\n",
       "                 2    14.87   1873.0  16.07   3093.0\n",
       "                 3    16.20   2041.0  17.29   3327.0\n",
       "                 4    15.39   1939.0  16.24   3125.0\n",
       "                 5    18.23   2297.0  18.85   3629.0\n",
       "                 6    14.18   1787.0  14.30   2753.0\n",
       "                 7     8.23   1037.0   6.61   1273.0\n",
       "                 8     4.31    543.0   2.78    536.0\n",
       "                 9     0.60     76.0   0.34     65.0\n",
       "No-show          No   68.58   8640.0  73.20  14089.0\n",
       "                 Yes  31.42   3959.0  26.80   5158.0"
      ]
     },
     "execution_count": 36,
     "metadata": {},
     "output_type": "execute_result"
    }
   ],
   "source": [
    "original_balance, original_chi = print_balance_table(cleaned_df)\n",
    "original_balance"
   ]
  },
  {
   "cell_type": "code",
   "execution_count": 357,
   "metadata": {},
   "outputs": [],
   "source": [
    "original_balance.to_csv('original_balance.csv')"
   ]
  },
  {
   "cell_type": "code",
   "execution_count": 37,
   "metadata": {},
   "outputs": [
    {
     "data": {
      "text/html": [
       "<div>\n",
       "<style scoped>\n",
       "    .dataframe tbody tr th:only-of-type {\n",
       "        vertical-align: middle;\n",
       "    }\n",
       "\n",
       "    .dataframe tbody tr th {\n",
       "        vertical-align: top;\n",
       "    }\n",
       "\n",
       "    .dataframe thead th {\n",
       "        text-align: right;\n",
       "    }\n",
       "</style>\n",
       "<table border=\"1\" class=\"dataframe\">\n",
       "  <thead>\n",
       "    <tr style=\"text-align: right;\">\n",
       "      <th></th>\n",
       "      <th></th>\n",
       "      <th>Chi Square</th>\n",
       "      <th>p value</th>\n",
       "    </tr>\n",
       "  </thead>\n",
       "  <tbody>\n",
       "    <tr>\n",
       "      <th>Gender</th>\n",
       "      <th>Gender</th>\n",
       "      <td>33.52</td>\n",
       "      <td>&lt;0.005</td>\n",
       "    </tr>\n",
       "    <tr>\n",
       "      <th>Scholarship</th>\n",
       "      <th>Scholarship</th>\n",
       "      <td>5.63</td>\n",
       "      <td>0.018</td>\n",
       "    </tr>\n",
       "    <tr>\n",
       "      <th>Hipertension</th>\n",
       "      <th>Hipertension</th>\n",
       "      <td>17.55</td>\n",
       "      <td>&lt;0.005</td>\n",
       "    </tr>\n",
       "    <tr>\n",
       "      <th>Diabetes</th>\n",
       "      <th>Diabetes</th>\n",
       "      <td>5.07</td>\n",
       "      <td>0.024</td>\n",
       "    </tr>\n",
       "    <tr>\n",
       "      <th>Alcoholism</th>\n",
       "      <th>Alcoholism</th>\n",
       "      <td>6.16</td>\n",
       "      <td>0.013</td>\n",
       "    </tr>\n",
       "    <tr>\n",
       "      <th>Handcap</th>\n",
       "      <th>Handcap</th>\n",
       "      <td>4.06</td>\n",
       "      <td>0.044</td>\n",
       "    </tr>\n",
       "    <tr>\n",
       "      <th>time_delta_weeks</th>\n",
       "      <th>time_delta_weeks</th>\n",
       "      <td>260.91</td>\n",
       "      <td>&lt;0.005</td>\n",
       "    </tr>\n",
       "    <tr>\n",
       "      <th>Age_decade</th>\n",
       "      <th>Age_decade</th>\n",
       "      <td>111.53</td>\n",
       "      <td>&lt;0.005</td>\n",
       "    </tr>\n",
       "    <tr>\n",
       "      <th>No-show</th>\n",
       "      <th>No-show</th>\n",
       "      <td>79.46</td>\n",
       "      <td>&lt;0.005</td>\n",
       "    </tr>\n",
       "  </tbody>\n",
       "</table>\n",
       "</div>"
      ],
      "text/plain": [
       "                                   Chi Square p value\n",
       "Gender           Gender                 33.52  <0.005\n",
       "Scholarship      Scholarship             5.63   0.018\n",
       "Hipertension     Hipertension           17.55  <0.005\n",
       "Diabetes         Diabetes                5.07   0.024\n",
       "Alcoholism       Alcoholism              6.16   0.013\n",
       "Handcap          Handcap                 4.06   0.044\n",
       "time_delta_weeks time_delta_weeks      260.91  <0.005\n",
       "Age_decade       Age_decade            111.53  <0.005\n",
       "No-show          No-show                79.46  <0.005"
      ]
     },
     "execution_count": 37,
     "metadata": {},
     "output_type": "execute_result"
    }
   ],
   "source": [
    "original_chi"
   ]
  },
  {
   "cell_type": "code",
   "execution_count": 72,
   "metadata": {},
   "outputs": [],
   "source": [
    "original_chi.to_csv('original_chi.csv')"
   ]
  },
  {
   "cell_type": "code",
   "execution_count": 38,
   "metadata": {},
   "outputs": [
    {
     "name": "stdout",
     "output_type": "stream",
     "text": [
      "JARDIM CAMBURI       6.982004\n",
      "MARIA ORTIZ          5.252110\n",
      "RESISTÊNCIA          4.008975\n",
      "JARDIM DA PENHA      3.507740\n",
      "ITARARÉ              3.179314\n",
      "CENTRO               3.016458\n",
      "TABUAZEIRO           2.833697\n",
      "SANTA MARTHA         2.832792\n",
      "JESUS DE NAZARETH    2.581270\n",
      "BONFIM               2.508889\n",
      "SANTO ANTÔNIO        2.484461\n",
      "SANTO ANDRÉ          2.326128\n",
      "CARATOÍRA            2.320700\n",
      "JABOUR               2.270034\n",
      "SÃO PEDRO            2.214843\n",
      "ILHA DO PRÍNCIPE     2.050178\n",
      "NOVA PALESTINA       2.048368\n",
      "ANDORINHAS           2.046559\n",
      "DA PENHA             2.005845\n",
      "ROMÃO                2.004035\n",
      "Name: Neighbourhood, dtype: float64\n"
     ]
    }
   ],
   "source": [
    "with pd.option_context('display.max_rows', None, 'display.max_columns', None):\n",
    "    counts = df.Neighbourhood.value_counts()\n",
    "    percentages = df.Neighbourhood.value_counts(normalize=True)\n",
    "    print((percentages[percentages > 0.02] * 100))\n",
    "    "
   ]
  },
  {
   "cell_type": "markdown",
   "metadata": {},
   "source": [
    "# Methods\n",
    "\n",
    "### help functions"
   ]
  },
  {
   "cell_type": "code",
   "execution_count": 39,
   "metadata": {},
   "outputs": [],
   "source": [
    "def plot_propensity_graph(method_name, treatment, propensity_scores):\n",
    "    plt.hist(propensity_scores[treatment==1], fc=(0, 0, 1, 0.5), bins=20, label='Treated')\n",
    "    plt.hist(propensity_scores[treatment==0], fc=(1, 0, 0, 0.5), bins=20, label='Control')\n",
    "    plt.title(method_name + \" propensity scores overlap\")\n",
    "    plt.legend()\n",
    "    plt.xlabel('propensity score')\n",
    "    plt.ylabel(\"number of units\")"
   ]
  },
  {
   "cell_type": "code",
   "execution_count": 40,
   "metadata": {},
   "outputs": [],
   "source": [
    "def recalculate_balance(df, propensity_scores):\n",
    "    pass"
   ]
  },
  {
   "cell_type": "code",
   "execution_count": 41,
   "metadata": {},
   "outputs": [],
   "source": [
    "def calculate_odds_ratio(treated, control):\n",
    "    pass"
   ]
  },
  {
   "cell_type": "code",
   "execution_count": 42,
   "metadata": {},
   "outputs": [],
   "source": [
    "res_dict = {}"
   ]
  },
  {
   "cell_type": "markdown",
   "metadata": {},
   "source": [
    "## Naive ATE calculation:"
   ]
  },
  {
   "cell_type": "code",
   "execution_count": 43,
   "metadata": {},
   "outputs": [],
   "source": [
    "cleaned_df = cleaned_df.reset_index()"
   ]
  },
  {
   "cell_type": "code",
   "execution_count": 44,
   "metadata": {},
   "outputs": [
    {
     "data": {
      "text/markdown": [
       "$\\hat (ATE) $=-0.046"
      ],
      "text/plain": [
       "<IPython.core.display.Markdown object>"
      ]
     },
     "metadata": {},
     "output_type": "display_data"
    }
   ],
   "source": [
    "Y1 = np.array(cleaned_df[cleaned_df['SMS_received']==1]['No-show_bin']).mean()\n",
    "Y0 = np.array(cleaned_df[cleaned_df['SMS_received']==0]['No-show_bin']).mean()\n",
    "delta_all = Y1 - Y0\n",
    "printmd(f\"$\\hat (ATE) $={round(delta_all,3)}\")"
   ]
  },
  {
   "cell_type": "code",
   "execution_count": 45,
   "metadata": {},
   "outputs": [
    {
     "data": {
      "text/markdown": [
       "**The CI for delta is:**"
      ],
      "text/plain": [
       "<IPython.core.display.Markdown object>"
      ]
     },
     "metadata": {},
     "output_type": "display_data"
    },
    {
     "name": "stdout",
     "output_type": "stream",
     "text": [
      "[-0.18209718670076724, 0.06874745002039984]\n"
     ]
    }
   ],
   "source": [
    "deltas = []\n",
    "B = 400\n",
    "alpha = 0.05\n",
    "for i in range(B): # B=400 as defined earlier\n",
    "    \n",
    "    temp_sample = cleaned_df.sample(n=200, replace=True) # allow selecting each row more than once\n",
    "    # fitting the linear model\n",
    "    temp_mu1 = np.array(temp_sample[temp_sample['SMS_received']==1]['No-show_bin']).mean()\n",
    "    temp_mu0 = np.array(temp_sample[temp_sample['SMS_received']==0]['No-show_bin']).mean()\n",
    "    deltas.append(temp_mu1-temp_mu0)\n",
    "    \n",
    "deltas.sort()\n",
    "CI_0 = [deltas[int(B*(alpha/2))], deltas[int(B*(1 - alpha/2))]]\n",
    "printmd(\"**The CI for delta is:**\")\n",
    "print(CI_0)"
   ]
  },
  {
   "cell_type": "code",
   "execution_count": 46,
   "metadata": {},
   "outputs": [],
   "source": [
    "res_dict['Naive ATE'] = [delta_all, CI_0]"
   ]
  },
  {
   "cell_type": "markdown",
   "metadata": {},
   "source": [
    "### Calculating Propensity"
   ]
  },
  {
   "cell_type": "code",
   "execution_count": 47,
   "metadata": {},
   "outputs": [],
   "source": [
    "propensity_columns = ['Gender', 'Scholarship', 'Hipertension',\n",
    "       'Diabetes', 'Alcoholism', 'Handcap', 'time_delta_days', 'Age', 'Neighbourhood']"
   ]
  },
  {
   "cell_type": "code",
   "execution_count": 48,
   "metadata": {},
   "outputs": [],
   "source": [
    "df_propensity = cleaned_df[propensity_columns]\n",
    "treatment = cleaned_df.SMS_received"
   ]
  },
  {
   "cell_type": "markdown",
   "metadata": {},
   "source": [
    "#### Creating dummy variables"
   ]
  },
  {
   "cell_type": "code",
   "execution_count": 49,
   "metadata": {},
   "outputs": [],
   "source": [
    "neighbourhood_dummies = pd.get_dummies(df_propensity.Neighbourhood, prefix='neighbourhood')\n",
    "gender_dummies = pd.get_dummies(df_propensity.Gender, prefix='gender')\n",
    "df_propensity = pd.concat((df_propensity, neighbourhood_dummies, gender_dummies), axis=1)\n",
    "df_propensity.drop('Neighbourhood', inplace=True, axis=1)\n",
    "df_propensity.drop('Gender', inplace=True, axis=1)"
   ]
  },
  {
   "cell_type": "markdown",
   "metadata": {},
   "source": [
    "#### Scaling the Data"
   ]
  },
  {
   "cell_type": "code",
   "execution_count": 50,
   "metadata": {},
   "outputs": [],
   "source": [
    "scaler = preprocessing.StandardScaler().fit(df_propensity)\n",
    "df_propensity_scaled = scaler.transform(df_propensity)"
   ]
  },
  {
   "cell_type": "markdown",
   "metadata": {},
   "source": [
    "#### Logistic Regression"
   ]
  },
  {
   "cell_type": "code",
   "execution_count": 51,
   "metadata": {},
   "outputs": [],
   "source": [
    "logistic_clf = LogisticRegression(random_state=0).fit(df_propensity_scaled, treatment)\n",
    "logistic_propensity = logistic_clf.predict_proba(df_propensity_scaled)[:, 1]"
   ]
  },
  {
   "cell_type": "code",
   "execution_count": 52,
   "metadata": {},
   "outputs": [
    {
     "data": {
      "image/png": "[encoded data removed]",
      "text/plain": [
       "<Figure size 432x288 with 1 Axes>"
      ]
     },
     "metadata": {
      "needs_background": "light"
     },
     "output_type": "display_data"
    }
   ],
   "source": [
    "plot_propensity_graph(\"Logistic Regression\", treatment, logistic_propensity)"
   ]
  },
  {
   "cell_type": "markdown",
   "metadata": {},
   "source": [
    "#### Gradient Boosted Trees"
   ]
  },
  {
   "cell_type": "code",
   "execution_count": 53,
   "metadata": {},
   "outputs": [],
   "source": [
    "trees_clf = GradientBoostingClassifier(n_estimators=100, learning_rate=1.0, \n",
    "                                       max_depth=1, random_state=0).fit(df_propensity_scaled, treatment)\n",
    "trees_propensity = trees_clf.predict_proba(df_propensity_scaled)[:, 1]"
   ]
  },
  {
   "cell_type": "code",
   "execution_count": 59,
   "metadata": {},
   "outputs": [
    {
     "data": {
      "image/png": "[encoded data removed]",
      "text/plain": [
       "<Figure size 432x288 with 1 Axes>"
      ]
     },
     "metadata": {
      "needs_background": "light"
     },
     "output_type": "display_data"
    }
   ],
   "source": [
    "plot_propensity_graph(\"GBT1\", treatment, trees_propensity)"
   ]
  },
  {
   "cell_type": "code",
   "execution_count": 60,
   "metadata": {},
   "outputs": [
    {
     "data": {
      "image/png": "[encoded data removed]",
      "text/plain": [
       "<Figure size 432x288 with 1 Axes>"
      ]
     },
     "metadata": {
      "needs_background": "light"
     },
     "output_type": "display_data"
    }
   ],
   "source": [
    "trees_clf_3 = GradientBoostingClassifier(n_estimators=100, learning_rate=1.0, \n",
    "                                       max_depth=3, random_state=0).fit(df_propensity_scaled, treatment)\n",
    "trees_propensity_3 = trees_clf_3.predict_proba(df_propensity_scaled)[:, 1]\n",
    "plot_propensity_graph(\"GBT3\", treatment, trees_propensity_3)"
   ]
  },
  {
   "cell_type": "code",
   "execution_count": 71,
   "metadata": {},
   "outputs": [
    {
     "name": "stdout",
     "output_type": "stream",
     "text": [
      "Logistic Regression:\n",
      "\tBrier: 0.235\n",
      "Gradient Boosted Trees 1:\n",
      "\tBrier: 0.227\n",
      "Gradient Boosted Trees 3:\n",
      "\tBrier: 0.205\n"
     ]
    },
    {
     "data": {
      "image/png": "[encoded data removed]",
      "text/plain": [
       "<Figure size 720x720 with 1 Axes>"
      ]
     },
     "metadata": {
      "needs_background": "light"
     },
     "output_type": "display_data"
    }
   ],
   "source": [
    "def plot_calibration_curve(est_dict, T):\n",
    "    \"\"\"Plot calibration curve for est w/o and with calibration.\n",
    "    Taken from sklearn docs\"\"\"\n",
    "\n",
    "    fig = plt.figure(1, figsize=(10, 10))\n",
    "    ax1 = plt.subplot2grid((3, 1), (0, 0), rowspan=2)\n",
    "\n",
    "    ax1.plot([0, 1], [0, 1], \"k:\", label=\"Perfectly calibrated\")\n",
    "    for name, est in est_dict.items():\n",
    "        y_pred = est\n",
    "\n",
    "        clf_score = brier_score_loss(T, y_pred)\n",
    "        print(\"%s:\" % name)\n",
    "        print(\"\\tBrier: %1.3f\" % (clf_score))\n",
    "\n",
    "        fraction_of_positives, mean_predicted_value = \\\n",
    "            calibration_curve(T, y_pred, n_bins=10)\n",
    "\n",
    "        ax1.plot(mean_predicted_value, fraction_of_positives, \"s-\",\n",
    "                 label=\"%s (%1.3f)\" % (name, clf_score))\n",
    "\n",
    "\n",
    "    ax1.set_ylabel(\"Fraction of positives\")\n",
    "    ax1.set_ylim([-0.05, 1.05])\n",
    "    ax1.legend(loc=\"lower right\")\n",
    "    ax1.set_title('Calibration plots  (reliability curve)')\n",
    "    ax1.set_xlabel(\"Mean predicted value\")\n",
    "\n",
    "    plt.tight_layout()\n",
    "\n",
    "est_dict = {'Logistic Regression': logistic_propensity, 'Gradient Boosted Trees 1': trees_propensity, 'Gradient Boosted Trees 3': trees_propensity_3}\n",
    "\n",
    "plot_calibration_curve(est_dict, treatment)\n",
    "\n",
    "plt.show()"
   ]
  },
  {
   "cell_type": "code",
   "execution_count": 439,
   "metadata": {},
   "outputs": [],
   "source": [
    "tmp = cleaned_df.copy()\n",
    "tmp['est'] = logistic_propensity"
   ]
  },
  {
   "cell_type": "markdown",
   "metadata": {},
   "source": [
    "### LR balance"
   ]
  },
  {
   "cell_type": "code",
   "execution_count": 141,
   "metadata": {},
   "outputs": [
    {
     "data": {
      "text/html": [
       "<div>\n",
       "<style scoped>\n",
       "    .dataframe tbody tr th:only-of-type {\n",
       "        vertical-align: middle;\n",
       "    }\n",
       "\n",
       "    .dataframe tbody tr th {\n",
       "        vertical-align: top;\n",
       "    }\n",
       "\n",
       "    .dataframe thead th {\n",
       "        text-align: right;\n",
       "    }\n",
       "</style>\n",
       "<table border=\"1\" class=\"dataframe\">\n",
       "  <thead>\n",
       "    <tr style=\"text-align: right;\">\n",
       "      <th></th>\n",
       "      <th>SMS_received</th>\n",
       "      <th>0</th>\n",
       "      <th>1</th>\n",
       "    </tr>\n",
       "  </thead>\n",
       "  <tbody>\n",
       "    <tr>\n",
       "      <th rowspan=\"2\" valign=\"top\">Gender</th>\n",
       "      <th>F</th>\n",
       "      <td>0.699354</td>\n",
       "      <td>0.728018</td>\n",
       "    </tr>\n",
       "    <tr>\n",
       "      <th>M</th>\n",
       "      <td>0.300646</td>\n",
       "      <td>0.271982</td>\n",
       "    </tr>\n",
       "    <tr>\n",
       "      <th rowspan=\"2\" valign=\"top\">Scholarship</th>\n",
       "      <th>0</th>\n",
       "      <td>0.910686</td>\n",
       "      <td>0.902620</td>\n",
       "    </tr>\n",
       "    <tr>\n",
       "      <th>1</th>\n",
       "      <td>0.089314</td>\n",
       "      <td>0.097380</td>\n",
       "    </tr>\n",
       "    <tr>\n",
       "      <th rowspan=\"2\" valign=\"top\">Hipertension</th>\n",
       "      <th>0</th>\n",
       "      <td>0.746287</td>\n",
       "      <td>0.764909</td>\n",
       "    </tr>\n",
       "    <tr>\n",
       "      <th>1</th>\n",
       "      <td>0.253713</td>\n",
       "      <td>0.235091</td>\n",
       "    </tr>\n",
       "    <tr>\n",
       "      <th rowspan=\"2\" valign=\"top\">Diabetes</th>\n",
       "      <th>0</th>\n",
       "      <td>0.912894</td>\n",
       "      <td>0.919311</td>\n",
       "    </tr>\n",
       "    <tr>\n",
       "      <th>1</th>\n",
       "      <td>0.087106</td>\n",
       "      <td>0.080689</td>\n",
       "    </tr>\n",
       "    <tr>\n",
       "      <th rowspan=\"2\" valign=\"top\">Alcoholism</th>\n",
       "      <th>0</th>\n",
       "      <td>0.969373</td>\n",
       "      <td>0.973745</td>\n",
       "    </tr>\n",
       "    <tr>\n",
       "      <th>1</th>\n",
       "      <td>0.030627</td>\n",
       "      <td>0.026255</td>\n",
       "    </tr>\n",
       "    <tr>\n",
       "      <th rowspan=\"2\" valign=\"top\">Handcap</th>\n",
       "      <th>0</th>\n",
       "      <td>0.980226</td>\n",
       "      <td>0.983079</td>\n",
       "    </tr>\n",
       "    <tr>\n",
       "      <th>1</th>\n",
       "      <td>0.019774</td>\n",
       "      <td>0.016921</td>\n",
       "    </tr>\n",
       "    <tr>\n",
       "      <th rowspan=\"14\" valign=\"top\">time_delta_weeks</th>\n",
       "      <th>0</th>\n",
       "      <td>0.279927</td>\n",
       "      <td>0.241464</td>\n",
       "    </tr>\n",
       "    <tr>\n",
       "      <th>1</th>\n",
       "      <td>0.202331</td>\n",
       "      <td>0.208661</td>\n",
       "    </tr>\n",
       "    <tr>\n",
       "      <th>2</th>\n",
       "      <td>0.159423</td>\n",
       "      <td>0.155161</td>\n",
       "    </tr>\n",
       "    <tr>\n",
       "      <th>3</th>\n",
       "      <td>0.111984</td>\n",
       "      <td>0.125186</td>\n",
       "    </tr>\n",
       "    <tr>\n",
       "      <th>4</th>\n",
       "      <td>0.118359</td>\n",
       "      <td>0.106237</td>\n",
       "    </tr>\n",
       "    <tr>\n",
       "      <th>5</th>\n",
       "      <td>0.040734</td>\n",
       "      <td>0.056094</td>\n",
       "    </tr>\n",
       "    <tr>\n",
       "      <th>6</th>\n",
       "      <td>0.021551</td>\n",
       "      <td>0.025912</td>\n",
       "    </tr>\n",
       "    <tr>\n",
       "      <th>7</th>\n",
       "      <td>0.015930</td>\n",
       "      <td>0.018344</td>\n",
       "    </tr>\n",
       "    <tr>\n",
       "      <th>8</th>\n",
       "      <td>0.011698</td>\n",
       "      <td>0.022347</td>\n",
       "    </tr>\n",
       "    <tr>\n",
       "      <th>9</th>\n",
       "      <td>0.013270</td>\n",
       "      <td>0.021636</td>\n",
       "    </tr>\n",
       "    <tr>\n",
       "      <th>10</th>\n",
       "      <td>0.014070</td>\n",
       "      <td>0.008468</td>\n",
       "    </tr>\n",
       "    <tr>\n",
       "      <th>11</th>\n",
       "      <td>0.006322</td>\n",
       "      <td>0.001305</td>\n",
       "    </tr>\n",
       "    <tr>\n",
       "      <th>12</th>\n",
       "      <td>0.002896</td>\n",
       "      <td>0.007457</td>\n",
       "    </tr>\n",
       "    <tr>\n",
       "      <th>13</th>\n",
       "      <td>0.001505</td>\n",
       "      <td>0.001729</td>\n",
       "    </tr>\n",
       "    <tr>\n",
       "      <th rowspan=\"9\" valign=\"top\">Age_decade</th>\n",
       "      <th>1</th>\n",
       "      <td>0.083958</td>\n",
       "      <td>0.078265</td>\n",
       "    </tr>\n",
       "    <tr>\n",
       "      <th>2</th>\n",
       "      <td>0.154320</td>\n",
       "      <td>0.165723</td>\n",
       "    </tr>\n",
       "    <tr>\n",
       "      <th>3</th>\n",
       "      <td>0.164923</td>\n",
       "      <td>0.175776</td>\n",
       "    </tr>\n",
       "    <tr>\n",
       "      <th>4</th>\n",
       "      <td>0.154665</td>\n",
       "      <td>0.162561</td>\n",
       "    </tr>\n",
       "    <tr>\n",
       "      <th>5</th>\n",
       "      <td>0.179176</td>\n",
       "      <td>0.185681</td>\n",
       "    </tr>\n",
       "    <tr>\n",
       "      <th>6</th>\n",
       "      <td>0.138818</td>\n",
       "      <td>0.139510</td>\n",
       "    </tr>\n",
       "    <tr>\n",
       "      <th>7</th>\n",
       "      <td>0.079058</td>\n",
       "      <td>0.063194</td>\n",
       "    </tr>\n",
       "    <tr>\n",
       "      <th>8</th>\n",
       "      <td>0.039643</td>\n",
       "      <td>0.026186</td>\n",
       "    </tr>\n",
       "    <tr>\n",
       "      <th>9</th>\n",
       "      <td>0.005440</td>\n",
       "      <td>0.003105</td>\n",
       "    </tr>\n",
       "    <tr>\n",
       "      <th rowspan=\"2\" valign=\"top\">No-show</th>\n",
       "      <th>No</th>\n",
       "      <td>0.685394</td>\n",
       "      <td>0.730277</td>\n",
       "    </tr>\n",
       "    <tr>\n",
       "      <th>Yes</th>\n",
       "      <td>0.314606</td>\n",
       "      <td>0.269723</td>\n",
       "    </tr>\n",
       "  </tbody>\n",
       "</table>\n",
       "</div>"
      ],
      "text/plain": [
       "SMS_received                 0         1\n",
       "Gender           F    0.699354  0.728018\n",
       "                 M    0.300646  0.271982\n",
       "Scholarship      0    0.910686  0.902620\n",
       "                 1    0.089314  0.097380\n",
       "Hipertension     0    0.746287  0.764909\n",
       "                 1    0.253713  0.235091\n",
       "Diabetes         0    0.912894  0.919311\n",
       "                 1    0.087106  0.080689\n",
       "Alcoholism       0    0.969373  0.973745\n",
       "                 1    0.030627  0.026255\n",
       "Handcap          0    0.980226  0.983079\n",
       "                 1    0.019774  0.016921\n",
       "time_delta_weeks 0    0.279927  0.241464\n",
       "                 1    0.202331  0.208661\n",
       "                 2    0.159423  0.155161\n",
       "                 3    0.111984  0.125186\n",
       "                 4    0.118359  0.106237\n",
       "                 5    0.040734  0.056094\n",
       "                 6    0.021551  0.025912\n",
       "                 7    0.015930  0.018344\n",
       "                 8    0.011698  0.022347\n",
       "                 9    0.013270  0.021636\n",
       "                 10   0.014070  0.008468\n",
       "                 11   0.006322  0.001305\n",
       "                 12   0.002896  0.007457\n",
       "                 13   0.001505  0.001729\n",
       "Age_decade       1    0.083958  0.078265\n",
       "                 2    0.154320  0.165723\n",
       "                 3    0.164923  0.175776\n",
       "                 4    0.154665  0.162561\n",
       "                 5    0.179176  0.185681\n",
       "                 6    0.138818  0.139510\n",
       "                 7    0.079058  0.063194\n",
       "                 8    0.039643  0.026186\n",
       "                 9    0.005440  0.003105\n",
       "No-show          No   0.685394  0.730277\n",
       "                 Yes  0.314606  0.269723"
      ]
     },
     "execution_count": 141,
     "metadata": {},
     "output_type": "execute_result"
    }
   ],
   "source": [
    "LR_balance, LR_chi = print_balance_table_est(cleaned_df,logistic_propensity)\n",
    "LR_balance"
   ]
  },
  {
   "cell_type": "code",
   "execution_count": 142,
   "metadata": {},
   "outputs": [
    {
     "data": {
      "text/html": [
       "<div>\n",
       "<style scoped>\n",
       "    .dataframe tbody tr th:only-of-type {\n",
       "        vertical-align: middle;\n",
       "    }\n",
       "\n",
       "    .dataframe tbody tr th {\n",
       "        vertical-align: top;\n",
       "    }\n",
       "\n",
       "    .dataframe thead th {\n",
       "        text-align: right;\n",
       "    }\n",
       "</style>\n",
       "<table border=\"1\" class=\"dataframe\">\n",
       "  <thead>\n",
       "    <tr style=\"text-align: right;\">\n",
       "      <th></th>\n",
       "      <th></th>\n",
       "      <th>Chi Square</th>\n",
       "      <th>p value</th>\n",
       "    </tr>\n",
       "  </thead>\n",
       "  <tbody>\n",
       "    <tr>\n",
       "      <th>Gender</th>\n",
       "      <th>Gender</th>\n",
       "      <td>2.31</td>\n",
       "      <td>0.129</td>\n",
       "    </tr>\n",
       "    <tr>\n",
       "      <th>Scholarship</th>\n",
       "      <th>Scholarship</th>\n",
       "      <td>5.81</td>\n",
       "      <td>0.016</td>\n",
       "    </tr>\n",
       "    <tr>\n",
       "      <th>Hipertension</th>\n",
       "      <th>Hipertension</th>\n",
       "      <td>2.61</td>\n",
       "      <td>0.106</td>\n",
       "    </tr>\n",
       "    <tr>\n",
       "      <th>Diabetes</th>\n",
       "      <th>Diabetes</th>\n",
       "      <td>6.42</td>\n",
       "      <td>0.011</td>\n",
       "    </tr>\n",
       "    <tr>\n",
       "      <th>Alcoholism</th>\n",
       "      <th>Alcoholism</th>\n",
       "      <td>17.94</td>\n",
       "      <td>&lt;0.005</td>\n",
       "    </tr>\n",
       "    <tr>\n",
       "      <th>Handcap</th>\n",
       "      <th>Handcap</th>\n",
       "      <td>27.60</td>\n",
       "      <td>&lt;0.005</td>\n",
       "    </tr>\n",
       "    <tr>\n",
       "      <th>time_delta_weeks</th>\n",
       "      <th>time_delta_weeks</th>\n",
       "      <td>0.02</td>\n",
       "      <td>1</td>\n",
       "    </tr>\n",
       "    <tr>\n",
       "      <th>Age_decade</th>\n",
       "      <th>Age_decade</th>\n",
       "      <td>0.01</td>\n",
       "      <td>1</td>\n",
       "    </tr>\n",
       "    <tr>\n",
       "      <th>No-show</th>\n",
       "      <th>No-show</th>\n",
       "      <td>2.21</td>\n",
       "      <td>0.138</td>\n",
       "    </tr>\n",
       "  </tbody>\n",
       "</table>\n",
       "</div>"
      ],
      "text/plain": [
       "                                   Chi Square p value\n",
       "Gender           Gender                  2.31   0.129\n",
       "Scholarship      Scholarship             5.81   0.016\n",
       "Hipertension     Hipertension            2.61   0.106\n",
       "Diabetes         Diabetes                6.42   0.011\n",
       "Alcoholism       Alcoholism             17.94  <0.005\n",
       "Handcap          Handcap                27.60  <0.005\n",
       "time_delta_weeks time_delta_weeks        0.02       1\n",
       "Age_decade       Age_decade              0.01       1\n",
       "No-show          No-show                 2.21   0.138"
      ]
     },
     "execution_count": 142,
     "metadata": {},
     "output_type": "execute_result"
    }
   ],
   "source": [
    "LR_chi"
   ]
  },
  {
   "cell_type": "code",
   "execution_count": 143,
   "metadata": {},
   "outputs": [
    {
     "data": {
      "text/html": [
       "<div>\n",
       "<style scoped>\n",
       "    .dataframe tbody tr th:only-of-type {\n",
       "        vertical-align: middle;\n",
       "    }\n",
       "\n",
       "    .dataframe tbody tr th {\n",
       "        vertical-align: top;\n",
       "    }\n",
       "\n",
       "    .dataframe thead th {\n",
       "        text-align: right;\n",
       "    }\n",
       "</style>\n",
       "<table border=\"1\" class=\"dataframe\">\n",
       "  <thead>\n",
       "    <tr style=\"text-align: right;\">\n",
       "      <th></th>\n",
       "      <th>SMS_received</th>\n",
       "      <th>0</th>\n",
       "      <th>1</th>\n",
       "    </tr>\n",
       "  </thead>\n",
       "  <tbody>\n",
       "    <tr>\n",
       "      <th rowspan=\"2\" valign=\"top\">Gender</th>\n",
       "      <th>F</th>\n",
       "      <td>0.701952</td>\n",
       "      <td>0.729366</td>\n",
       "    </tr>\n",
       "    <tr>\n",
       "      <th>M</th>\n",
       "      <td>0.298048</td>\n",
       "      <td>0.270634</td>\n",
       "    </tr>\n",
       "    <tr>\n",
       "      <th rowspan=\"2\" valign=\"top\">Scholarship</th>\n",
       "      <th>0</th>\n",
       "      <td>0.909818</td>\n",
       "      <td>0.903845</td>\n",
       "    </tr>\n",
       "    <tr>\n",
       "      <th>1</th>\n",
       "      <td>0.090182</td>\n",
       "      <td>0.096155</td>\n",
       "    </tr>\n",
       "    <tr>\n",
       "      <th rowspan=\"2\" valign=\"top\">Hipertension</th>\n",
       "      <th>0</th>\n",
       "      <td>0.747804</td>\n",
       "      <td>0.766821</td>\n",
       "    </tr>\n",
       "    <tr>\n",
       "      <th>1</th>\n",
       "      <td>0.252196</td>\n",
       "      <td>0.233179</td>\n",
       "    </tr>\n",
       "    <tr>\n",
       "      <th rowspan=\"2\" valign=\"top\">Diabetes</th>\n",
       "      <th>0</th>\n",
       "      <td>0.913460</td>\n",
       "      <td>0.920349</td>\n",
       "    </tr>\n",
       "    <tr>\n",
       "      <th>1</th>\n",
       "      <td>0.086540</td>\n",
       "      <td>0.079651</td>\n",
       "    </tr>\n",
       "    <tr>\n",
       "      <th rowspan=\"2\" valign=\"top\">Alcoholism</th>\n",
       "      <th>0</th>\n",
       "      <td>0.969044</td>\n",
       "      <td>0.974096</td>\n",
       "    </tr>\n",
       "    <tr>\n",
       "      <th>1</th>\n",
       "      <td>0.030956</td>\n",
       "      <td>0.025904</td>\n",
       "    </tr>\n",
       "    <tr>\n",
       "      <th rowspan=\"2\" valign=\"top\">Handcap</th>\n",
       "      <th>0</th>\n",
       "      <td>0.979832</td>\n",
       "      <td>0.982693</td>\n",
       "    </tr>\n",
       "    <tr>\n",
       "      <th>1</th>\n",
       "      <td>0.020168</td>\n",
       "      <td>0.017307</td>\n",
       "    </tr>\n",
       "    <tr>\n",
       "      <th rowspan=\"14\" valign=\"top\">time_delta_weeks</th>\n",
       "      <th>0</th>\n",
       "      <td>0.263681</td>\n",
       "      <td>0.239137</td>\n",
       "    </tr>\n",
       "    <tr>\n",
       "      <th>1</th>\n",
       "      <td>0.214611</td>\n",
       "      <td>0.212726</td>\n",
       "    </tr>\n",
       "    <tr>\n",
       "      <th>2</th>\n",
       "      <td>0.164314</td>\n",
       "      <td>0.152804</td>\n",
       "    </tr>\n",
       "    <tr>\n",
       "      <th>3</th>\n",
       "      <td>0.117369</td>\n",
       "      <td>0.126437</td>\n",
       "    </tr>\n",
       "    <tr>\n",
       "      <th>4</th>\n",
       "      <td>0.113837</td>\n",
       "      <td>0.100842</td>\n",
       "    </tr>\n",
       "    <tr>\n",
       "      <th>5</th>\n",
       "      <td>0.043452</td>\n",
       "      <td>0.057279</td>\n",
       "    </tr>\n",
       "    <tr>\n",
       "      <th>6</th>\n",
       "      <td>0.022777</td>\n",
       "      <td>0.026154</td>\n",
       "    </tr>\n",
       "    <tr>\n",
       "      <th>7</th>\n",
       "      <td>0.016766</td>\n",
       "      <td>0.018521</td>\n",
       "    </tr>\n",
       "    <tr>\n",
       "      <th>8</th>\n",
       "      <td>0.013337</td>\n",
       "      <td>0.024778</td>\n",
       "    </tr>\n",
       "    <tr>\n",
       "      <th>9</th>\n",
       "      <td>0.013887</td>\n",
       "      <td>0.023982</td>\n",
       "    </tr>\n",
       "    <tr>\n",
       "      <th>10</th>\n",
       "      <td>0.008378</td>\n",
       "      <td>0.006961</td>\n",
       "    </tr>\n",
       "    <tr>\n",
       "      <th>11</th>\n",
       "      <td>0.002902</td>\n",
       "      <td>0.000566</td>\n",
       "    </tr>\n",
       "    <tr>\n",
       "      <th>12</th>\n",
       "      <td>0.003115</td>\n",
       "      <td>0.007962</td>\n",
       "    </tr>\n",
       "    <tr>\n",
       "      <th>13</th>\n",
       "      <td>0.001573</td>\n",
       "      <td>0.001851</td>\n",
       "    </tr>\n",
       "    <tr>\n",
       "      <th rowspan=\"9\" valign=\"top\">Age_decade</th>\n",
       "      <th>1</th>\n",
       "      <td>0.079930</td>\n",
       "      <td>0.073412</td>\n",
       "    </tr>\n",
       "    <tr>\n",
       "      <th>2</th>\n",
       "      <td>0.154769</td>\n",
       "      <td>0.163323</td>\n",
       "    </tr>\n",
       "    <tr>\n",
       "      <th>3</th>\n",
       "      <td>0.168184</td>\n",
       "      <td>0.175952</td>\n",
       "    </tr>\n",
       "    <tr>\n",
       "      <th>4</th>\n",
       "      <td>0.158579</td>\n",
       "      <td>0.165988</td>\n",
       "    </tr>\n",
       "    <tr>\n",
       "      <th>5</th>\n",
       "      <td>0.183232</td>\n",
       "      <td>0.190526</td>\n",
       "    </tr>\n",
       "    <tr>\n",
       "      <th>6</th>\n",
       "      <td>0.140952</td>\n",
       "      <td>0.143549</td>\n",
       "    </tr>\n",
       "    <tr>\n",
       "      <th>7</th>\n",
       "      <td>0.073619</td>\n",
       "      <td>0.060084</td>\n",
       "    </tr>\n",
       "    <tr>\n",
       "      <th>8</th>\n",
       "      <td>0.036087</td>\n",
       "      <td>0.024288</td>\n",
       "    </tr>\n",
       "    <tr>\n",
       "      <th>9</th>\n",
       "      <td>0.004648</td>\n",
       "      <td>0.002878</td>\n",
       "    </tr>\n",
       "    <tr>\n",
       "      <th rowspan=\"2\" valign=\"top\">No-show</th>\n",
       "      <th>No</th>\n",
       "      <td>0.683872</td>\n",
       "      <td>0.731040</td>\n",
       "    </tr>\n",
       "    <tr>\n",
       "      <th>Yes</th>\n",
       "      <td>0.316128</td>\n",
       "      <td>0.268960</td>\n",
       "    </tr>\n",
       "  </tbody>\n",
       "</table>\n",
       "</div>"
      ],
      "text/plain": [
       "SMS_received                 0         1\n",
       "Gender           F    0.701952  0.729366\n",
       "                 M    0.298048  0.270634\n",
       "Scholarship      0    0.909818  0.903845\n",
       "                 1    0.090182  0.096155\n",
       "Hipertension     0    0.747804  0.766821\n",
       "                 1    0.252196  0.233179\n",
       "Diabetes         0    0.913460  0.920349\n",
       "                 1    0.086540  0.079651\n",
       "Alcoholism       0    0.969044  0.974096\n",
       "                 1    0.030956  0.025904\n",
       "Handcap          0    0.979832  0.982693\n",
       "                 1    0.020168  0.017307\n",
       "time_delta_weeks 0    0.263681  0.239137\n",
       "                 1    0.214611  0.212726\n",
       "                 2    0.164314  0.152804\n",
       "                 3    0.117369  0.126437\n",
       "                 4    0.113837  0.100842\n",
       "                 5    0.043452  0.057279\n",
       "                 6    0.022777  0.026154\n",
       "                 7    0.016766  0.018521\n",
       "                 8    0.013337  0.024778\n",
       "                 9    0.013887  0.023982\n",
       "                 10   0.008378  0.006961\n",
       "                 11   0.002902  0.000566\n",
       "                 12   0.003115  0.007962\n",
       "                 13   0.001573  0.001851\n",
       "Age_decade       1    0.079930  0.073412\n",
       "                 2    0.154769  0.163323\n",
       "                 3    0.168184  0.175952\n",
       "                 4    0.158579  0.165988\n",
       "                 5    0.183232  0.190526\n",
       "                 6    0.140952  0.143549\n",
       "                 7    0.073619  0.060084\n",
       "                 8    0.036087  0.024288\n",
       "                 9    0.004648  0.002878\n",
       "No-show          No   0.683872  0.731040\n",
       "                 Yes  0.316128  0.268960"
      ]
     },
     "execution_count": 143,
     "metadata": {},
     "output_type": "execute_result"
    }
   ],
   "source": [
    "GBT1_balance, GBT1_chi = print_balance_table_est(cleaned_df, trees_propensity)\n",
    "GBT1_balance"
   ]
  },
  {
   "cell_type": "code",
   "execution_count": 144,
   "metadata": {},
   "outputs": [
    {
     "data": {
      "text/html": [
       "<div>\n",
       "<style scoped>\n",
       "    .dataframe tbody tr th:only-of-type {\n",
       "        vertical-align: middle;\n",
       "    }\n",
       "\n",
       "    .dataframe tbody tr th {\n",
       "        vertical-align: top;\n",
       "    }\n",
       "\n",
       "    .dataframe thead th {\n",
       "        text-align: right;\n",
       "    }\n",
       "</style>\n",
       "<table border=\"1\" class=\"dataframe\">\n",
       "  <thead>\n",
       "    <tr style=\"text-align: right;\">\n",
       "      <th></th>\n",
       "      <th></th>\n",
       "      <th>Chi Square</th>\n",
       "      <th>p value</th>\n",
       "    </tr>\n",
       "  </thead>\n",
       "  <tbody>\n",
       "    <tr>\n",
       "      <th>Gender</th>\n",
       "      <th>Gender</th>\n",
       "      <td>2.32</td>\n",
       "      <td>0.127</td>\n",
       "    </tr>\n",
       "    <tr>\n",
       "      <th>Scholarship</th>\n",
       "      <th>Scholarship</th>\n",
       "      <td>5.85</td>\n",
       "      <td>0.016</td>\n",
       "    </tr>\n",
       "    <tr>\n",
       "      <th>Hipertension</th>\n",
       "      <th>Hipertension</th>\n",
       "      <td>2.62</td>\n",
       "      <td>0.106</td>\n",
       "    </tr>\n",
       "    <tr>\n",
       "      <th>Diabetes</th>\n",
       "      <th>Diabetes</th>\n",
       "      <td>6.47</td>\n",
       "      <td>0.011</td>\n",
       "    </tr>\n",
       "    <tr>\n",
       "      <th>Alcoholism</th>\n",
       "      <th>Alcoholism</th>\n",
       "      <td>17.92</td>\n",
       "      <td>&lt;0.005</td>\n",
       "    </tr>\n",
       "    <tr>\n",
       "      <th>Handcap</th>\n",
       "      <th>Handcap</th>\n",
       "      <td>27.04</td>\n",
       "      <td>&lt;0.005</td>\n",
       "    </tr>\n",
       "    <tr>\n",
       "      <th>time_delta_weeks</th>\n",
       "      <th>time_delta_weeks</th>\n",
       "      <td>0.01</td>\n",
       "      <td>1</td>\n",
       "    </tr>\n",
       "    <tr>\n",
       "      <th>Age_decade</th>\n",
       "      <th>Age_decade</th>\n",
       "      <td>0.01</td>\n",
       "      <td>1</td>\n",
       "    </tr>\n",
       "    <tr>\n",
       "      <th>No-show</th>\n",
       "      <th>No-show</th>\n",
       "      <td>2.19</td>\n",
       "      <td>0.139</td>\n",
       "    </tr>\n",
       "  </tbody>\n",
       "</table>\n",
       "</div>"
      ],
      "text/plain": [
       "                                   Chi Square p value\n",
       "Gender           Gender                  2.32   0.127\n",
       "Scholarship      Scholarship             5.85   0.016\n",
       "Hipertension     Hipertension            2.62   0.106\n",
       "Diabetes         Diabetes                6.47   0.011\n",
       "Alcoholism       Alcoholism             17.92  <0.005\n",
       "Handcap          Handcap                27.04  <0.005\n",
       "time_delta_weeks time_delta_weeks        0.01       1\n",
       "Age_decade       Age_decade              0.01       1\n",
       "No-show          No-show                 2.19   0.139"
      ]
     },
     "execution_count": 144,
     "metadata": {},
     "output_type": "execute_result"
    }
   ],
   "source": [
    "GBT1_chi"
   ]
  },
  {
   "cell_type": "code",
   "execution_count": 145,
   "metadata": {},
   "outputs": [
    {
     "data": {
      "text/html": [
       "<div>\n",
       "<style scoped>\n",
       "    .dataframe tbody tr th:only-of-type {\n",
       "        vertical-align: middle;\n",
       "    }\n",
       "\n",
       "    .dataframe tbody tr th {\n",
       "        vertical-align: top;\n",
       "    }\n",
       "\n",
       "    .dataframe thead th {\n",
       "        text-align: right;\n",
       "    }\n",
       "</style>\n",
       "<table border=\"1\" class=\"dataframe\">\n",
       "  <thead>\n",
       "    <tr style=\"text-align: right;\">\n",
       "      <th></th>\n",
       "      <th>SMS_received</th>\n",
       "      <th>0</th>\n",
       "      <th>1</th>\n",
       "    </tr>\n",
       "  </thead>\n",
       "  <tbody>\n",
       "    <tr>\n",
       "      <th rowspan=\"2\" valign=\"top\">Gender</th>\n",
       "      <th>F</th>\n",
       "      <td>0.700254</td>\n",
       "      <td>0.724799</td>\n",
       "    </tr>\n",
       "    <tr>\n",
       "      <th>M</th>\n",
       "      <td>0.299746</td>\n",
       "      <td>0.275201</td>\n",
       "    </tr>\n",
       "    <tr>\n",
       "      <th rowspan=\"2\" valign=\"top\">Scholarship</th>\n",
       "      <th>0</th>\n",
       "      <td>0.908771</td>\n",
       "      <td>0.903316</td>\n",
       "    </tr>\n",
       "    <tr>\n",
       "      <th>1</th>\n",
       "      <td>0.091229</td>\n",
       "      <td>0.096684</td>\n",
       "    </tr>\n",
       "    <tr>\n",
       "      <th rowspan=\"2\" valign=\"top\">Hipertension</th>\n",
       "      <th>0</th>\n",
       "      <td>0.748037</td>\n",
       "      <td>0.761953</td>\n",
       "    </tr>\n",
       "    <tr>\n",
       "      <th>1</th>\n",
       "      <td>0.251963</td>\n",
       "      <td>0.238047</td>\n",
       "    </tr>\n",
       "    <tr>\n",
       "      <th rowspan=\"2\" valign=\"top\">Diabetes</th>\n",
       "      <th>0</th>\n",
       "      <td>0.913906</td>\n",
       "      <td>0.917923</td>\n",
       "    </tr>\n",
       "    <tr>\n",
       "      <th>1</th>\n",
       "      <td>0.086094</td>\n",
       "      <td>0.082077</td>\n",
       "    </tr>\n",
       "    <tr>\n",
       "      <th rowspan=\"2\" valign=\"top\">Alcoholism</th>\n",
       "      <th>0</th>\n",
       "      <td>0.969678</td>\n",
       "      <td>0.973484</td>\n",
       "    </tr>\n",
       "    <tr>\n",
       "      <th>1</th>\n",
       "      <td>0.030322</td>\n",
       "      <td>0.026516</td>\n",
       "    </tr>\n",
       "    <tr>\n",
       "      <th rowspan=\"2\" valign=\"top\">Handcap</th>\n",
       "      <th>0</th>\n",
       "      <td>0.981228</td>\n",
       "      <td>0.982623</td>\n",
       "    </tr>\n",
       "    <tr>\n",
       "      <th>1</th>\n",
       "      <td>0.018772</td>\n",
       "      <td>0.017377</td>\n",
       "    </tr>\n",
       "    <tr>\n",
       "      <th rowspan=\"14\" valign=\"top\">time_delta_weeks</th>\n",
       "      <th>0</th>\n",
       "      <td>0.278833</td>\n",
       "      <td>0.235525</td>\n",
       "    </tr>\n",
       "    <tr>\n",
       "      <th>1</th>\n",
       "      <td>0.222133</td>\n",
       "      <td>0.205533</td>\n",
       "    </tr>\n",
       "    <tr>\n",
       "      <th>2</th>\n",
       "      <td>0.164637</td>\n",
       "      <td>0.151414</td>\n",
       "    </tr>\n",
       "    <tr>\n",
       "      <th>3</th>\n",
       "      <td>0.116279</td>\n",
       "      <td>0.129740</td>\n",
       "    </tr>\n",
       "    <tr>\n",
       "      <th>4</th>\n",
       "      <td>0.108817</td>\n",
       "      <td>0.100364</td>\n",
       "    </tr>\n",
       "    <tr>\n",
       "      <th>5</th>\n",
       "      <td>0.040563</td>\n",
       "      <td>0.061256</td>\n",
       "    </tr>\n",
       "    <tr>\n",
       "      <th>6</th>\n",
       "      <td>0.021101</td>\n",
       "      <td>0.027363</td>\n",
       "    </tr>\n",
       "    <tr>\n",
       "      <th>7</th>\n",
       "      <td>0.015536</td>\n",
       "      <td>0.017874</td>\n",
       "    </tr>\n",
       "    <tr>\n",
       "      <th>8</th>\n",
       "      <td>0.012552</td>\n",
       "      <td>0.025110</td>\n",
       "    </tr>\n",
       "    <tr>\n",
       "      <th>9</th>\n",
       "      <td>0.010909</td>\n",
       "      <td>0.024419</td>\n",
       "    </tr>\n",
       "    <tr>\n",
       "      <th>10</th>\n",
       "      <td>0.004342</td>\n",
       "      <td>0.009350</td>\n",
       "    </tr>\n",
       "    <tr>\n",
       "      <th>11</th>\n",
       "      <td>0.001451</td>\n",
       "      <td>0.001028</td>\n",
       "    </tr>\n",
       "    <tr>\n",
       "      <th>12</th>\n",
       "      <td>0.001980</td>\n",
       "      <td>0.009070</td>\n",
       "    </tr>\n",
       "    <tr>\n",
       "      <th>13</th>\n",
       "      <td>0.000867</td>\n",
       "      <td>0.001956</td>\n",
       "    </tr>\n",
       "    <tr>\n",
       "      <th rowspan=\"9\" valign=\"top\">Age_decade</th>\n",
       "      <th>1</th>\n",
       "      <td>0.079963</td>\n",
       "      <td>0.073222</td>\n",
       "    </tr>\n",
       "    <tr>\n",
       "      <th>2</th>\n",
       "      <td>0.157250</td>\n",
       "      <td>0.161868</td>\n",
       "    </tr>\n",
       "    <tr>\n",
       "      <th>3</th>\n",
       "      <td>0.170796</td>\n",
       "      <td>0.173713</td>\n",
       "    </tr>\n",
       "    <tr>\n",
       "      <th>4</th>\n",
       "      <td>0.159347</td>\n",
       "      <td>0.165072</td>\n",
       "    </tr>\n",
       "    <tr>\n",
       "      <th>5</th>\n",
       "      <td>0.183852</td>\n",
       "      <td>0.190422</td>\n",
       "    </tr>\n",
       "    <tr>\n",
       "      <th>6</th>\n",
       "      <td>0.139596</td>\n",
       "      <td>0.145128</td>\n",
       "    </tr>\n",
       "    <tr>\n",
       "      <th>7</th>\n",
       "      <td>0.073521</td>\n",
       "      <td>0.061746</td>\n",
       "    </tr>\n",
       "    <tr>\n",
       "      <th>8</th>\n",
       "      <td>0.032194</td>\n",
       "      <td>0.025602</td>\n",
       "    </tr>\n",
       "    <tr>\n",
       "      <th>9</th>\n",
       "      <td>0.003481</td>\n",
       "      <td>0.003227</td>\n",
       "    </tr>\n",
       "    <tr>\n",
       "      <th rowspan=\"2\" valign=\"top\">No-show</th>\n",
       "      <th>No</th>\n",
       "      <td>0.684943</td>\n",
       "      <td>0.731951</td>\n",
       "    </tr>\n",
       "    <tr>\n",
       "      <th>Yes</th>\n",
       "      <td>0.315057</td>\n",
       "      <td>0.268049</td>\n",
       "    </tr>\n",
       "  </tbody>\n",
       "</table>\n",
       "</div>"
      ],
      "text/plain": [
       "SMS_received                 0         1\n",
       "Gender           F    0.700254  0.724799\n",
       "                 M    0.299746  0.275201\n",
       "Scholarship      0    0.908771  0.903316\n",
       "                 1    0.091229  0.096684\n",
       "Hipertension     0    0.748037  0.761953\n",
       "                 1    0.251963  0.238047\n",
       "Diabetes         0    0.913906  0.917923\n",
       "                 1    0.086094  0.082077\n",
       "Alcoholism       0    0.969678  0.973484\n",
       "                 1    0.030322  0.026516\n",
       "Handcap          0    0.981228  0.982623\n",
       "                 1    0.018772  0.017377\n",
       "time_delta_weeks 0    0.278833  0.235525\n",
       "                 1    0.222133  0.205533\n",
       "                 2    0.164637  0.151414\n",
       "                 3    0.116279  0.129740\n",
       "                 4    0.108817  0.100364\n",
       "                 5    0.040563  0.061256\n",
       "                 6    0.021101  0.027363\n",
       "                 7    0.015536  0.017874\n",
       "                 8    0.012552  0.025110\n",
       "                 9    0.010909  0.024419\n",
       "                 10   0.004342  0.009350\n",
       "                 11   0.001451  0.001028\n",
       "                 12   0.001980  0.009070\n",
       "                 13   0.000867  0.001956\n",
       "Age_decade       1    0.079963  0.073222\n",
       "                 2    0.157250  0.161868\n",
       "                 3    0.170796  0.173713\n",
       "                 4    0.159347  0.165072\n",
       "                 5    0.183852  0.190422\n",
       "                 6    0.139596  0.145128\n",
       "                 7    0.073521  0.061746\n",
       "                 8    0.032194  0.025602\n",
       "                 9    0.003481  0.003227\n",
       "No-show          No   0.684943  0.731951\n",
       "                 Yes  0.315057  0.268049"
      ]
     },
     "execution_count": 145,
     "metadata": {},
     "output_type": "execute_result"
    }
   ],
   "source": [
    "GBT3_balance, GBT3_chi = print_balance_table_est(cleaned_df, trees_propensity_3)\n",
    "GBT3_balance"
   ]
  },
  {
   "cell_type": "code",
   "execution_count": 146,
   "metadata": {},
   "outputs": [
    {
     "data": {
      "text/html": [
       "<div>\n",
       "<style scoped>\n",
       "    .dataframe tbody tr th:only-of-type {\n",
       "        vertical-align: middle;\n",
       "    }\n",
       "\n",
       "    .dataframe tbody tr th {\n",
       "        vertical-align: top;\n",
       "    }\n",
       "\n",
       "    .dataframe thead th {\n",
       "        text-align: right;\n",
       "    }\n",
       "</style>\n",
       "<table border=\"1\" class=\"dataframe\">\n",
       "  <thead>\n",
       "    <tr style=\"text-align: right;\">\n",
       "      <th></th>\n",
       "      <th></th>\n",
       "      <th>Chi Square</th>\n",
       "      <th>p value</th>\n",
       "    </tr>\n",
       "  </thead>\n",
       "  <tbody>\n",
       "    <tr>\n",
       "      <th>Gender</th>\n",
       "      <th>Gender</th>\n",
       "      <td>2.32</td>\n",
       "      <td>0.128</td>\n",
       "    </tr>\n",
       "    <tr>\n",
       "      <th>Scholarship</th>\n",
       "      <th>Scholarship</th>\n",
       "      <td>5.81</td>\n",
       "      <td>0.016</td>\n",
       "    </tr>\n",
       "    <tr>\n",
       "      <th>Hipertension</th>\n",
       "      <th>Hipertension</th>\n",
       "      <td>2.63</td>\n",
       "      <td>0.105</td>\n",
       "    </tr>\n",
       "    <tr>\n",
       "      <th>Diabetes</th>\n",
       "      <th>Diabetes</th>\n",
       "      <td>6.44</td>\n",
       "      <td>0.011</td>\n",
       "    </tr>\n",
       "    <tr>\n",
       "      <th>Alcoholism</th>\n",
       "      <th>Alcoholism</th>\n",
       "      <td>17.97</td>\n",
       "      <td>&lt;0.005</td>\n",
       "    </tr>\n",
       "    <tr>\n",
       "      <th>Handcap</th>\n",
       "      <th>Handcap</th>\n",
       "      <td>28.09</td>\n",
       "      <td>&lt;0.005</td>\n",
       "    </tr>\n",
       "    <tr>\n",
       "      <th>time_delta_weeks</th>\n",
       "      <th>time_delta_weeks</th>\n",
       "      <td>0.03</td>\n",
       "      <td>1</td>\n",
       "    </tr>\n",
       "    <tr>\n",
       "      <th>Age_decade</th>\n",
       "      <th>Age_decade</th>\n",
       "      <td>0.00</td>\n",
       "      <td>1</td>\n",
       "    </tr>\n",
       "    <tr>\n",
       "      <th>No-show</th>\n",
       "      <th>No-show</th>\n",
       "      <td>2.20</td>\n",
       "      <td>0.138</td>\n",
       "    </tr>\n",
       "  </tbody>\n",
       "</table>\n",
       "</div>"
      ],
      "text/plain": [
       "                                   Chi Square p value\n",
       "Gender           Gender                  2.32   0.128\n",
       "Scholarship      Scholarship             5.81   0.016\n",
       "Hipertension     Hipertension            2.63   0.105\n",
       "Diabetes         Diabetes                6.44   0.011\n",
       "Alcoholism       Alcoholism             17.97  <0.005\n",
       "Handcap          Handcap                28.09  <0.005\n",
       "time_delta_weeks time_delta_weeks        0.03       1\n",
       "Age_decade       Age_decade              0.00       1\n",
       "No-show          No-show                 2.20   0.138"
      ]
     },
     "execution_count": 146,
     "metadata": {},
     "output_type": "execute_result"
    }
   ],
   "source": [
    "GBT3_chi"
   ]
  },
  {
   "cell_type": "code",
   "execution_count": 147,
   "metadata": {},
   "outputs": [
    {
     "data": {
      "text/html": [
       "<div>\n",
       "<style scoped>\n",
       "    .dataframe tbody tr th:only-of-type {\n",
       "        vertical-align: middle;\n",
       "    }\n",
       "\n",
       "    .dataframe tbody tr th {\n",
       "        vertical-align: top;\n",
       "    }\n",
       "\n",
       "    .dataframe thead th {\n",
       "        text-align: right;\n",
       "    }\n",
       "</style>\n",
       "<table border=\"1\" class=\"dataframe\">\n",
       "  <thead>\n",
       "    <tr style=\"text-align: right;\">\n",
       "      <th></th>\n",
       "      <th></th>\n",
       "      <th>Chi Square</th>\n",
       "      <th>p value</th>\n",
       "    </tr>\n",
       "  </thead>\n",
       "  <tbody>\n",
       "    <tr>\n",
       "      <th>Gender</th>\n",
       "      <th>Gender</th>\n",
       "      <td>2.32</td>\n",
       "      <td>0.128</td>\n",
       "    </tr>\n",
       "    <tr>\n",
       "      <th>Scholarship</th>\n",
       "      <th>Scholarship</th>\n",
       "      <td>5.81</td>\n",
       "      <td>0.016</td>\n",
       "    </tr>\n",
       "    <tr>\n",
       "      <th>Hipertension</th>\n",
       "      <th>Hipertension</th>\n",
       "      <td>2.63</td>\n",
       "      <td>0.105</td>\n",
       "    </tr>\n",
       "    <tr>\n",
       "      <th>Diabetes</th>\n",
       "      <th>Diabetes</th>\n",
       "      <td>6.44</td>\n",
       "      <td>0.011</td>\n",
       "    </tr>\n",
       "    <tr>\n",
       "      <th>Alcoholism</th>\n",
       "      <th>Alcoholism</th>\n",
       "      <td>17.97</td>\n",
       "      <td>&lt;0.005</td>\n",
       "    </tr>\n",
       "    <tr>\n",
       "      <th>Handcap</th>\n",
       "      <th>Handcap</th>\n",
       "      <td>28.09</td>\n",
       "      <td>&lt;0.005</td>\n",
       "    </tr>\n",
       "    <tr>\n",
       "      <th>time_delta_weeks</th>\n",
       "      <th>time_delta_weeks</th>\n",
       "      <td>0.03</td>\n",
       "      <td>1</td>\n",
       "    </tr>\n",
       "    <tr>\n",
       "      <th>Age_decade</th>\n",
       "      <th>Age_decade</th>\n",
       "      <td>0.00</td>\n",
       "      <td>1</td>\n",
       "    </tr>\n",
       "    <tr>\n",
       "      <th>No-show</th>\n",
       "      <th>No-show</th>\n",
       "      <td>2.20</td>\n",
       "      <td>0.138</td>\n",
       "    </tr>\n",
       "  </tbody>\n",
       "</table>\n",
       "</div>"
      ],
      "text/plain": [
       "                                   Chi Square p value\n",
       "Gender           Gender                  2.32   0.128\n",
       "Scholarship      Scholarship             5.81   0.016\n",
       "Hipertension     Hipertension            2.63   0.105\n",
       "Diabetes         Diabetes                6.44   0.011\n",
       "Alcoholism       Alcoholism             17.97  <0.005\n",
       "Handcap          Handcap                28.09  <0.005\n",
       "time_delta_weeks time_delta_weeks        0.03       1\n",
       "Age_decade       Age_decade              0.00       1\n",
       "No-show          No-show                 2.20   0.138"
      ]
     },
     "execution_count": 147,
     "metadata": {},
     "output_type": "execute_result"
    }
   ],
   "source": [
    "GBT3_chi"
   ]
  },
  {
   "cell_type": "code",
   "execution_count": 118,
   "metadata": {},
   "outputs": [],
   "source": [
    "GBT3_balance.to_csv('GBT3_balance.csv')"
   ]
  },
  {
   "cell_type": "markdown",
   "metadata": {},
   "source": [
    "## Estimating with IPW"
   ]
  },
  {
   "cell_type": "code",
   "execution_count": 79,
   "metadata": {},
   "outputs": [],
   "source": [
    "def estimate_ATE_IPW(T, Y, e):\n",
    "    n = len(T)\n",
    "    left_argument = sum(T * Y/e)\n",
    "    right_argument = sum(((1 - T) * Y)/(1-e))\n",
    "    return (left_argument - right_argument)/n"
   ]
  },
  {
   "cell_type": "code",
   "execution_count": 80,
   "metadata": {},
   "outputs": [],
   "source": [
    "def calc_bootstap_CI_IPW(df, e):\n",
    "    deltas = []\n",
    "    B = 400\n",
    "    alpha = 0.05\n",
    "    for i in range(B): # B=400 as defined earlier\n",
    "\n",
    "        temp_sample = df.sample(n=200, replace=True) # allow selecting each row more than once\n",
    "        temp_treatment = temp_sample.SMS_received\n",
    "        temp_Y = temp_sample[\"No-show_bin\"]\n",
    "        temp_e = e[temp_sample.index]\n",
    "        deltas.append(estimate_ATE_IPW(temp_treatment, temp_Y, temp_e))\n",
    "\n",
    "    deltas.sort()\n",
    "    CI_3 = [deltas[int(B*(alpha/2))], deltas[int(B*(1 - alpha/2))]]\n",
    "    printmd(\"**The CI for delta is:**\")\n",
    "    print(CI_3)\n",
    "    return CI_3"
   ]
  },
  {
   "cell_type": "code",
   "execution_count": 81,
   "metadata": {},
   "outputs": [],
   "source": [
    "Y = cleaned_df[\"No-show_bin\"]"
   ]
  },
  {
   "cell_type": "code",
   "execution_count": 82,
   "metadata": {},
   "outputs": [
    {
     "name": "stdout",
     "output_type": "stream",
     "text": [
      "LR:\n",
      "-0.04937606975988605\n"
     ]
    },
    {
     "data": {
      "text/markdown": [
       "**The CI for delta is:**"
      ],
      "text/plain": [
       "<IPython.core.display.Markdown object>"
      ]
     },
     "metadata": {},
     "output_type": "display_data"
    },
    {
     "name": "stdout",
     "output_type": "stream",
     "text": [
      "[-0.20318662051510045, 0.11231264941674034]\n"
     ]
    }
   ],
   "source": [
    "print(\"LR:\")\n",
    "LR_ATE_IPW = estimate_ATE_IPW(treatment, Y, logistic_propensity)\n",
    "print(LR_ATE_IPW)\n",
    "CI_LR_ATE_IPW = calc_bootstap_CI_IPW(cleaned_df, logistic_propensity)\n",
    "res_dict['Logistic Regression IPW'] = [LR_ATE_IPW, CI_LR_ATE_IPW]"
   ]
  },
  {
   "cell_type": "code",
   "execution_count": 83,
   "metadata": {},
   "outputs": [
    {
     "name": "stdout",
     "output_type": "stream",
     "text": [
      "GBT:\n",
      "-0.04729860128510647\n"
     ]
    },
    {
     "data": {
      "text/markdown": [
       "**The CI for delta is:**"
      ],
      "text/plain": [
       "<IPython.core.display.Markdown object>"
      ]
     },
     "metadata": {},
     "output_type": "display_data"
    },
    {
     "name": "stdout",
     "output_type": "stream",
     "text": [
      "[-0.21641202421964742, 0.08880123289586134]\n"
     ]
    }
   ],
   "source": [
    "print(\"GBT:\")\n",
    "estimate_ATE_IPW(treatment, Y, trees_propensity)\n",
    "GBT_ATE_IPW = estimate_ATE_IPW(treatment, Y, trees_propensity)\n",
    "print(GBT_ATE_IPW)\n",
    "CI_GBT_ATE_IPW = calc_bootstap_CI_IPW(cleaned_df, trees_propensity)\n",
    "res_dict['Gradient Boosted trees 1 IPW'] = [GBT_ATE_IPW, CI_GBT_ATE_IPW]"
   ]
  },
  {
   "cell_type": "code",
   "execution_count": 84,
   "metadata": {},
   "outputs": [
    {
     "name": "stdout",
     "output_type": "stream",
     "text": [
      "GBT3:\n",
      "-0.04108417549594277\n"
     ]
    },
    {
     "data": {
      "text/markdown": [
       "**The CI for delta is:**"
      ],
      "text/plain": [
       "<IPython.core.display.Markdown object>"
      ]
     },
     "metadata": {},
     "output_type": "display_data"
    },
    {
     "name": "stdout",
     "output_type": "stream",
     "text": [
      "[-0.20896182161373805, 0.12129906834694772]\n"
     ]
    }
   ],
   "source": [
    "print(\"GBT3:\")\n",
    "estimate_ATE_IPW(treatment, Y, trees_propensity_3)\n",
    "GBT3_ATE_IPW = estimate_ATE_IPW(treatment, Y, trees_propensity_3)\n",
    "print(GBT3_ATE_IPW)\n",
    "CI_GBT3_ATE_IPW = calc_bootstap_CI_IPW(cleaned_df, trees_propensity_3)\n",
    "res_dict['Gradient Boosted trees 3 IPW'] = [GBT3_ATE_IPW, CI_GBT3_ATE_IPW]"
   ]
  },
  {
   "cell_type": "markdown",
   "metadata": {},
   "source": [
    "## Matching with Propensity "
   ]
  },
  {
   "cell_type": "code",
   "execution_count": 85,
   "metadata": {},
   "outputs": [],
   "source": [
    "%matplotlib inline\n",
    "import numpy as np\n",
    "import pandas as pd\n",
    "import seaborn as sns\n",
    "import statsmodels as sm\n",
    "import statsmodels.api as sma\n",
    "import statsmodels.formula.api as smf\n",
    "import matplotlib.pyplot as plt\n",
    "import os\n",
    "\n",
    "def estimate_propensity(formula, data, show_summary=False):\n",
    "    \"\"\" Estimates a propensity model using generalized linear models.\n",
    "    \n",
    "    Arguments:\n",
    "    ----------\n",
    "        formula:       String that contains the (R style) model formula.\n",
    "        data:          DataFrame containing the covariates for each observation.\n",
    "        show_summary:  Boolean that indicates to print out the model summary to the console.\n",
    "    \"\"\"\n",
    "    model = smf.glm(formula=formula, data=data, family=sma.families.Binomial()).fit()\n",
    "\n",
    "    if show_summary:\n",
    "        print(model.summary())\n",
    "\n",
    "    return pd.Series(data=model.predict(data), index=data.index)\n",
    "\n",
    "\n",
    "def matching(label, propensity, calipher=0.05, replace=True):\n",
    "    \"\"\" Performs nearest-neighbour matching for a sample of test and control\n",
    "    observations, based on the propensity scores for each observation.\n",
    "\n",
    "    Arguments:\n",
    "    ----------\n",
    "        label:      Series that contains the label for each observation.\n",
    "        propensity: Series that contains the propensity score for each observation.\n",
    "        calipher:   Bound on distance between observations in terms of propensity score.\n",
    "        replace:    Boolean that indicates whether sampling is with (True) or without replacement (False).\n",
    "    \"\"\"\n",
    "\n",
    "    treated = propensity[label == 1]\n",
    "    control = propensity[label == 0]\n",
    "\n",
    "    # Randomly permute in case of sampling without replacement to remove any bias arising from the\n",
    "    # ordering of the data set\n",
    "    matching_order = np.random.permutation(label[label == 1].index)\n",
    "    matches = {}\n",
    "\n",
    "    for obs in matching_order:\n",
    "        # Compute the distance between the treatment observation and all candidate controls in terms of\n",
    "        # propensity score\n",
    "        distance = abs(treated[obs] - control)\n",
    "\n",
    "        # Take the closest match\n",
    "        if distance.min() <= calipher or not calipher:\n",
    "            matches[obs] = [distance.argmin()]\n",
    "            \n",
    "            # Remove the matched control from the set of candidate controls in case of sampling without replacement\n",
    "            if not replace:\n",
    "                control = control.drop(matches[obs])\n",
    "\n",
    "    return matches\n",
    "\n",
    "                            \n",
    "def matching_to_dataframe(match, covariates, remove_duplicates=False):\n",
    "    \"\"\" Converts a list of matches obtained from matching() to a DataFrame.\n",
    "    Duplicate rows are controls that where matched multiple times.\n",
    "\n",
    "    Arguments:\n",
    "    ----------\n",
    "        match:              Dictionary with a list of matched control observations.\n",
    "        covariates:         DataFrame that contains the covariates for the observations.\n",
    "        remove_duplicates:  Boolean that indicates whether or not to remove duplicate rows from the result. \n",
    "                            If matching with replacement was used you should set this to False****\n",
    "    \"\"\"\n",
    "    treated = list(match.keys())\n",
    "    control = [ctrl for matched_list in match.values() for ctrl in matched_list]\n",
    "\n",
    "    result = pd.concat([covariates.loc[treated], covariates.loc[control]])\n",
    "\n",
    "    if remove_duplicates:\n",
    "        return result.groupby(result.index).first()\n",
    "    else:\n",
    "        return result\n",
    "     \n",
    "\n",
    "def trim_common_support(data, label_name):\n",
    "    \"\"\" Removes observations that fall outside the common support of the propensity score \n",
    "        distribution from the data.\n",
    "    \n",
    "    Arguments:\n",
    "    ----------\n",
    "        data:        DataFrame with the propensity scores for each observation.\n",
    "        label_name:  Column name that contains the labels (treatment/control) for each observation.\n",
    "    \n",
    "    \"\"\"\n",
    "    group_min_max = (data.groupby(label_name)\n",
    "                         .propensity.agg({\"min_propensity\": np.min, \"max_propensity\": np.max}))\n",
    "\n",
    "    # Compute boundaries of common support between the two propensity score distributions\n",
    "    min_common_support = np.max(group_min_max.min_propensity)\n",
    "    max_common_support = np.min(group_min_max.max_propensity)\n",
    "\n",
    "    common_support = (data.propensity >= min_common_support) & (data.propensity <= max_common_support)\n",
    "    control = (data[label_name] == 0)\n",
    "    treated = (data[label_name] == 1)\n",
    "    \n",
    "    return data[common_support]\n",
    "\n",
    "def qq_plot(x, y, variable_name):\n",
    "    \"\"\" Produces a QQ-plot where the percentiles of two empirical distributions are compared against each other.\n",
    "    \n",
    "    Arguments:\n",
    "    ----------\n",
    "        x:              Vector with samples from the first distribution.\n",
    "        y:              Vector with samples from the second distribution.\n",
    "        variable_name:  Name of the variable.\n",
    "    \n",
    "    \"\"\"\n",
    "    q = np.arange(0, 100)\n",
    "    a = np.percentile(a=x, q=q)\n",
    "    b = np.percentile(a=y, q=q)\n",
    "    \n",
    "    fig, ax = plt.subplots(figsize=(8, 8))\n",
    "    plt.title(\"QQ-plot of variable %s\" % variable_name)\n",
    "        \n",
    "    plt.plot(a, b, 'o')\n",
    "    plt.plot([0, np.max(a)], [0, np.max(a)], '-')\n",
    "    \n",
    "    ax.set_xlabel(\"Control quantiles\")\n",
    "    ax.set_ylabel(\"Treatment quantiles\")"
   ]
  },
  {
   "cell_type": "code",
   "execution_count": 86,
   "metadata": {},
   "outputs": [
    {
     "data": {
      "text/plain": [
       "0        1\n",
       "1        1\n",
       "2        1\n",
       "3        1\n",
       "4        1\n",
       "        ..\n",
       "31841    1\n",
       "31842    1\n",
       "31843    1\n",
       "31844    1\n",
       "31845    1\n",
       "Name: SMS_received, Length: 31846, dtype: int64"
      ]
     },
     "execution_count": 86,
     "metadata": {},
     "output_type": "execute_result"
    }
   ],
   "source": [
    "treatment"
   ]
  },
  {
   "cell_type": "code",
   "execution_count": 87,
   "metadata": {},
   "outputs": [],
   "source": [
    "logistic_propensity_sr = pd.Series(logistic_propensity).rename(\"propensity\", inplace=True)\n",
    "df_LR = cleaned_df.join(logistic_propensity_sr)"
   ]
  },
  {
   "cell_type": "code",
   "execution_count": 88,
   "metadata": {},
   "outputs": [],
   "source": [
    "matches_LR = matching(label=treatment,\n",
    "                   propensity=logistic_propensity_sr,\n",
    "                   calipher=0.1,\n",
    "                   replace=True)"
   ]
  },
  {
   "cell_type": "code",
   "execution_count": 89,
   "metadata": {},
   "outputs": [
    {
     "data": {
      "text/plain": [
       "SMS_received\n",
       "0    AxesSubplot(0.125,0.125;0.775x0.755)\n",
       "1    AxesSubplot(0.125,0.125;0.775x0.755)\n",
       "Name: propensity, dtype: object"
      ]
     },
     "execution_count": 89,
     "metadata": {},
     "output_type": "execute_result"
    },
    {
     "data": {
      "image/png": "[encoded data removed]",
      "text/plain": [
       "<Figure size 432x288 with 1 Axes>"
      ]
     },
     "metadata": {
      "needs_background": "light"
     },
     "output_type": "display_data"
    }
   ],
   "source": [
    "matches_data_frame_LR = matching_to_dataframe(match=matches_LR,\n",
    "                                           covariates=df_LR,\n",
    "                                           remove_duplicates=False)\n",
    "\n",
    "matches_data_frame_LR.groupby(\"SMS_received\")[\"propensity\"].plot(kind=\"hist\", sharex=True, range=(0,1), bins=20, alpha=0.75, title=\"Logistic Regression Matching Common Balance\")"
   ]
  },
  {
   "cell_type": "code",
   "execution_count": 90,
   "metadata": {},
   "outputs": [
    {
     "data": {
      "text/html": [
       "<div>\n",
       "<style scoped>\n",
       "    .dataframe tbody tr th:only-of-type {\n",
       "        vertical-align: middle;\n",
       "    }\n",
       "\n",
       "    .dataframe tbody tr th {\n",
       "        vertical-align: top;\n",
       "    }\n",
       "\n",
       "    .dataframe thead tr th {\n",
       "        text-align: left;\n",
       "    }\n",
       "</style>\n",
       "<table border=\"1\" class=\"dataframe\">\n",
       "  <thead>\n",
       "    <tr>\n",
       "      <th></th>\n",
       "      <th></th>\n",
       "      <th colspan=\"4\" halign=\"left\">value</th>\n",
       "    </tr>\n",
       "    <tr>\n",
       "      <th></th>\n",
       "      <th>SMS_received</th>\n",
       "      <th colspan=\"2\" halign=\"left\">0</th>\n",
       "      <th colspan=\"2\" halign=\"left\">1</th>\n",
       "    </tr>\n",
       "    <tr>\n",
       "      <th></th>\n",
       "      <th>variable</th>\n",
       "      <th>%</th>\n",
       "      <th>No.</th>\n",
       "      <th>%</th>\n",
       "      <th>No.</th>\n",
       "    </tr>\n",
       "  </thead>\n",
       "  <tbody>\n",
       "    <tr>\n",
       "      <th rowspan=\"2\" valign=\"top\">Gender</th>\n",
       "      <th>F</th>\n",
       "      <td>69.36</td>\n",
       "      <td>5330.0</td>\n",
       "      <td>71.16</td>\n",
       "      <td>21925.0</td>\n",
       "    </tr>\n",
       "    <tr>\n",
       "      <th>M</th>\n",
       "      <td>30.64</td>\n",
       "      <td>2355.0</td>\n",
       "      <td>28.84</td>\n",
       "      <td>8884.0</td>\n",
       "    </tr>\n",
       "    <tr>\n",
       "      <th rowspan=\"2\" valign=\"top\">Scholarship</th>\n",
       "      <th>0</th>\n",
       "      <td>90.58</td>\n",
       "      <td>6961.0</td>\n",
       "      <td>90.73</td>\n",
       "      <td>27953.0</td>\n",
       "    </tr>\n",
       "    <tr>\n",
       "      <th>1</th>\n",
       "      <td>9.42</td>\n",
       "      <td>724.0</td>\n",
       "      <td>9.27</td>\n",
       "      <td>2856.0</td>\n",
       "    </tr>\n",
       "    <tr>\n",
       "      <th rowspan=\"2\" valign=\"top\">Hipertension</th>\n",
       "      <th>0</th>\n",
       "      <td>73.62</td>\n",
       "      <td>5658.0</td>\n",
       "      <td>75.86</td>\n",
       "      <td>23373.0</td>\n",
       "    </tr>\n",
       "    <tr>\n",
       "      <th>1</th>\n",
       "      <td>26.38</td>\n",
       "      <td>2027.0</td>\n",
       "      <td>24.14</td>\n",
       "      <td>7436.0</td>\n",
       "    </tr>\n",
       "    <tr>\n",
       "      <th rowspan=\"2\" valign=\"top\">Diabetes</th>\n",
       "      <th>0</th>\n",
       "      <td>91.57</td>\n",
       "      <td>7037.0</td>\n",
       "      <td>91.63</td>\n",
       "      <td>28231.0</td>\n",
       "    </tr>\n",
       "    <tr>\n",
       "      <th>1</th>\n",
       "      <td>8.43</td>\n",
       "      <td>648.0</td>\n",
       "      <td>8.37</td>\n",
       "      <td>2578.0</td>\n",
       "    </tr>\n",
       "    <tr>\n",
       "      <th rowspan=\"2\" valign=\"top\">Alcoholism</th>\n",
       "      <th>0</th>\n",
       "      <td>96.53</td>\n",
       "      <td>7418.0</td>\n",
       "      <td>97.26</td>\n",
       "      <td>29966.0</td>\n",
       "    </tr>\n",
       "    <tr>\n",
       "      <th>1</th>\n",
       "      <td>3.47</td>\n",
       "      <td>267.0</td>\n",
       "      <td>2.74</td>\n",
       "      <td>843.0</td>\n",
       "    </tr>\n",
       "    <tr>\n",
       "      <th rowspan=\"2\" valign=\"top\">Handcap</th>\n",
       "      <th>0</th>\n",
       "      <td>98.06</td>\n",
       "      <td>7536.0</td>\n",
       "      <td>98.28</td>\n",
       "      <td>30280.0</td>\n",
       "    </tr>\n",
       "    <tr>\n",
       "      <th>1</th>\n",
       "      <td>1.94</td>\n",
       "      <td>149.0</td>\n",
       "      <td>1.72</td>\n",
       "      <td>529.0</td>\n",
       "    </tr>\n",
       "    <tr>\n",
       "      <th rowspan=\"14\" valign=\"top\">time_delta_weeks</th>\n",
       "      <th>0</th>\n",
       "      <td>27.33</td>\n",
       "      <td>2100.0</td>\n",
       "      <td>24.93</td>\n",
       "      <td>7681.0</td>\n",
       "    </tr>\n",
       "    <tr>\n",
       "      <th>1</th>\n",
       "      <td>22.06</td>\n",
       "      <td>1695.0</td>\n",
       "      <td>21.49</td>\n",
       "      <td>6622.0</td>\n",
       "    </tr>\n",
       "    <tr>\n",
       "      <th>2</th>\n",
       "      <td>14.87</td>\n",
       "      <td>1143.0</td>\n",
       "      <td>15.51</td>\n",
       "      <td>4780.0</td>\n",
       "    </tr>\n",
       "    <tr>\n",
       "      <th>3</th>\n",
       "      <td>10.70</td>\n",
       "      <td>822.0</td>\n",
       "      <td>12.22</td>\n",
       "      <td>3764.0</td>\n",
       "    </tr>\n",
       "    <tr>\n",
       "      <th>4</th>\n",
       "      <td>11.84</td>\n",
       "      <td>910.0</td>\n",
       "      <td>10.64</td>\n",
       "      <td>3277.0</td>\n",
       "    </tr>\n",
       "    <tr>\n",
       "      <th>5</th>\n",
       "      <td>3.98</td>\n",
       "      <td>306.0</td>\n",
       "      <td>5.36</td>\n",
       "      <td>1651.0</td>\n",
       "    </tr>\n",
       "    <tr>\n",
       "      <th>6</th>\n",
       "      <td>2.17</td>\n",
       "      <td>167.0</td>\n",
       "      <td>2.31</td>\n",
       "      <td>712.0</td>\n",
       "    </tr>\n",
       "    <tr>\n",
       "      <th>7</th>\n",
       "      <td>1.68</td>\n",
       "      <td>129.0</td>\n",
       "      <td>1.80</td>\n",
       "      <td>554.0</td>\n",
       "    </tr>\n",
       "    <tr>\n",
       "      <th>8</th>\n",
       "      <td>1.29</td>\n",
       "      <td>99.0</td>\n",
       "      <td>2.13</td>\n",
       "      <td>655.0</td>\n",
       "    </tr>\n",
       "    <tr>\n",
       "      <th>9</th>\n",
       "      <td>1.61</td>\n",
       "      <td>124.0</td>\n",
       "      <td>1.99</td>\n",
       "      <td>612.0</td>\n",
       "    </tr>\n",
       "    <tr>\n",
       "      <th>10</th>\n",
       "      <td>1.55</td>\n",
       "      <td>119.0</td>\n",
       "      <td>0.75</td>\n",
       "      <td>230.0</td>\n",
       "    </tr>\n",
       "    <tr>\n",
       "      <th>11</th>\n",
       "      <td>0.43</td>\n",
       "      <td>33.0</td>\n",
       "      <td>0.11</td>\n",
       "      <td>34.0</td>\n",
       "    </tr>\n",
       "    <tr>\n",
       "      <th>12</th>\n",
       "      <td>0.35</td>\n",
       "      <td>27.0</td>\n",
       "      <td>0.62</td>\n",
       "      <td>191.0</td>\n",
       "    </tr>\n",
       "    <tr>\n",
       "      <th>13</th>\n",
       "      <td>0.14</td>\n",
       "      <td>11.0</td>\n",
       "      <td>0.15</td>\n",
       "      <td>46.0</td>\n",
       "    </tr>\n",
       "    <tr>\n",
       "      <th rowspan=\"9\" valign=\"top\">Age_decade</th>\n",
       "      <th>1</th>\n",
       "      <td>8.71</td>\n",
       "      <td>669.0</td>\n",
       "      <td>7.54</td>\n",
       "      <td>2322.0</td>\n",
       "    </tr>\n",
       "    <tr>\n",
       "      <th>2</th>\n",
       "      <td>14.50</td>\n",
       "      <td>1114.0</td>\n",
       "      <td>16.08</td>\n",
       "      <td>4953.0</td>\n",
       "    </tr>\n",
       "    <tr>\n",
       "      <th>3</th>\n",
       "      <td>16.58</td>\n",
       "      <td>1274.0</td>\n",
       "      <td>17.24</td>\n",
       "      <td>5310.0</td>\n",
       "    </tr>\n",
       "    <tr>\n",
       "      <th>4</th>\n",
       "      <td>16.56</td>\n",
       "      <td>1273.0</td>\n",
       "      <td>16.58</td>\n",
       "      <td>5109.0</td>\n",
       "    </tr>\n",
       "    <tr>\n",
       "      <th>5</th>\n",
       "      <td>17.46</td>\n",
       "      <td>1342.0</td>\n",
       "      <td>18.48</td>\n",
       "      <td>5695.0</td>\n",
       "    </tr>\n",
       "    <tr>\n",
       "      <th>6</th>\n",
       "      <td>13.72</td>\n",
       "      <td>1054.0</td>\n",
       "      <td>14.56</td>\n",
       "      <td>4485.0</td>\n",
       "    </tr>\n",
       "    <tr>\n",
       "      <th>7</th>\n",
       "      <td>7.39</td>\n",
       "      <td>568.0</td>\n",
       "      <td>6.45</td>\n",
       "      <td>1987.0</td>\n",
       "    </tr>\n",
       "    <tr>\n",
       "      <th>8</th>\n",
       "      <td>4.42</td>\n",
       "      <td>340.0</td>\n",
       "      <td>2.76</td>\n",
       "      <td>850.0</td>\n",
       "    </tr>\n",
       "    <tr>\n",
       "      <th>9</th>\n",
       "      <td>0.66</td>\n",
       "      <td>51.0</td>\n",
       "      <td>0.32</td>\n",
       "      <td>98.0</td>\n",
       "    </tr>\n",
       "    <tr>\n",
       "      <th rowspan=\"2\" valign=\"top\">No-show</th>\n",
       "      <th>No</th>\n",
       "      <td>69.11</td>\n",
       "      <td>5311.0</td>\n",
       "      <td>73.22</td>\n",
       "      <td>22559.0</td>\n",
       "    </tr>\n",
       "    <tr>\n",
       "      <th>Yes</th>\n",
       "      <td>30.89</td>\n",
       "      <td>2374.0</td>\n",
       "      <td>26.78</td>\n",
       "      <td>8250.0</td>\n",
       "    </tr>\n",
       "  </tbody>\n",
       "</table>\n",
       "</div>"
      ],
      "text/plain": [
       "                      value                        \n",
       "SMS_received              0              1         \n",
       "variable                  %     No.      %      No.\n",
       "Gender           F    69.36  5330.0  71.16  21925.0\n",
       "                 M    30.64  2355.0  28.84   8884.0\n",
       "Scholarship      0    90.58  6961.0  90.73  27953.0\n",
       "                 1     9.42   724.0   9.27   2856.0\n",
       "Hipertension     0    73.62  5658.0  75.86  23373.0\n",
       "                 1    26.38  2027.0  24.14   7436.0\n",
       "Diabetes         0    91.57  7037.0  91.63  28231.0\n",
       "                 1     8.43   648.0   8.37   2578.0\n",
       "Alcoholism       0    96.53  7418.0  97.26  29966.0\n",
       "                 1     3.47   267.0   2.74    843.0\n",
       "Handcap          0    98.06  7536.0  98.28  30280.0\n",
       "                 1     1.94   149.0   1.72    529.0\n",
       "time_delta_weeks 0    27.33  2100.0  24.93   7681.0\n",
       "                 1    22.06  1695.0  21.49   6622.0\n",
       "                 2    14.87  1143.0  15.51   4780.0\n",
       "                 3    10.70   822.0  12.22   3764.0\n",
       "                 4    11.84   910.0  10.64   3277.0\n",
       "                 5     3.98   306.0   5.36   1651.0\n",
       "                 6     2.17   167.0   2.31    712.0\n",
       "                 7     1.68   129.0   1.80    554.0\n",
       "                 8     1.29    99.0   2.13    655.0\n",
       "                 9     1.61   124.0   1.99    612.0\n",
       "                 10    1.55   119.0   0.75    230.0\n",
       "                 11    0.43    33.0   0.11     34.0\n",
       "                 12    0.35    27.0   0.62    191.0\n",
       "                 13    0.14    11.0   0.15     46.0\n",
       "Age_decade       1     8.71   669.0   7.54   2322.0\n",
       "                 2    14.50  1114.0  16.08   4953.0\n",
       "                 3    16.58  1274.0  17.24   5310.0\n",
       "                 4    16.56  1273.0  16.58   5109.0\n",
       "                 5    17.46  1342.0  18.48   5695.0\n",
       "                 6    13.72  1054.0  14.56   4485.0\n",
       "                 7     7.39   568.0   6.45   1987.0\n",
       "                 8     4.42   340.0   2.76    850.0\n",
       "                 9     0.66    51.0   0.32     98.0\n",
       "No-show          No   69.11  5311.0  73.22  22559.0\n",
       "                 Yes  30.89  2374.0  26.78   8250.0"
      ]
     },
     "execution_count": 90,
     "metadata": {},
     "output_type": "execute_result"
    }
   ],
   "source": [
    "LR_balance_table, LR_balance_chi = print_balance_table(matches_data_frame_LR)\n",
    "LR_balance_table"
   ]
  },
  {
   "cell_type": "code",
   "execution_count": 91,
   "metadata": {},
   "outputs": [
    {
     "data": {
      "text/html": [
       "<div>\n",
       "<style scoped>\n",
       "    .dataframe tbody tr th:only-of-type {\n",
       "        vertical-align: middle;\n",
       "    }\n",
       "\n",
       "    .dataframe tbody tr th {\n",
       "        vertical-align: top;\n",
       "    }\n",
       "\n",
       "    .dataframe thead th {\n",
       "        text-align: right;\n",
       "    }\n",
       "</style>\n",
       "<table border=\"1\" class=\"dataframe\">\n",
       "  <thead>\n",
       "    <tr style=\"text-align: right;\">\n",
       "      <th></th>\n",
       "      <th></th>\n",
       "      <th>Chi Square</th>\n",
       "      <th>p value</th>\n",
       "    </tr>\n",
       "  </thead>\n",
       "  <tbody>\n",
       "    <tr>\n",
       "      <th>Gender</th>\n",
       "      <th>Gender</th>\n",
       "      <td>9.64</td>\n",
       "      <td>&lt;0.005</td>\n",
       "    </tr>\n",
       "    <tr>\n",
       "      <th>Scholarship</th>\n",
       "      <th>Scholarship</th>\n",
       "      <td>0.15</td>\n",
       "      <td>0.7</td>\n",
       "    </tr>\n",
       "    <tr>\n",
       "      <th>Hipertension</th>\n",
       "      <th>Hipertension</th>\n",
       "      <td>16.53</td>\n",
       "      <td>&lt;0.005</td>\n",
       "    </tr>\n",
       "    <tr>\n",
       "      <th>Diabetes</th>\n",
       "      <th>Diabetes</th>\n",
       "      <td>0.03</td>\n",
       "      <td>0.874</td>\n",
       "    </tr>\n",
       "    <tr>\n",
       "      <th>Alcoholism</th>\n",
       "      <th>Alcoholism</th>\n",
       "      <td>11.70</td>\n",
       "      <td>&lt;0.005</td>\n",
       "    </tr>\n",
       "    <tr>\n",
       "      <th>Handcap</th>\n",
       "      <th>Handcap</th>\n",
       "      <td>1.62</td>\n",
       "      <td>0.203</td>\n",
       "    </tr>\n",
       "    <tr>\n",
       "      <th>time_delta_weeks</th>\n",
       "      <th>time_delta_weeks</th>\n",
       "      <td>174.50</td>\n",
       "      <td>&lt;0.005</td>\n",
       "    </tr>\n",
       "    <tr>\n",
       "      <th>Age_decade</th>\n",
       "      <th>Age_decade</th>\n",
       "      <td>111.03</td>\n",
       "      <td>&lt;0.005</td>\n",
       "    </tr>\n",
       "    <tr>\n",
       "      <th>No-show</th>\n",
       "      <th>No-show</th>\n",
       "      <td>51.88</td>\n",
       "      <td>&lt;0.005</td>\n",
       "    </tr>\n",
       "  </tbody>\n",
       "</table>\n",
       "</div>"
      ],
      "text/plain": [
       "                                   Chi Square p value\n",
       "Gender           Gender                  9.64  <0.005\n",
       "Scholarship      Scholarship             0.15     0.7\n",
       "Hipertension     Hipertension           16.53  <0.005\n",
       "Diabetes         Diabetes                0.03   0.874\n",
       "Alcoholism       Alcoholism             11.70  <0.005\n",
       "Handcap          Handcap                 1.62   0.203\n",
       "time_delta_weeks time_delta_weeks      174.50  <0.005\n",
       "Age_decade       Age_decade            111.03  <0.005\n",
       "No-show          No-show                51.88  <0.005"
      ]
     },
     "execution_count": 91,
     "metadata": {},
     "output_type": "execute_result"
    }
   ],
   "source": [
    "LR_balance_chi"
   ]
  },
  {
   "cell_type": "code",
   "execution_count": 92,
   "metadata": {},
   "outputs": [],
   "source": [
    "def calc_ATE(df):\n",
    "    Y1 = np.array(df[df['SMS_received']==1]['No-show_bin']).mean()\n",
    "    Y0 = np.array(df[df['SMS_received']==0]['No-show_bin']).mean()\n",
    "    delta_all = Y1 - Y0\n",
    "    printmd(f\"$\\hat (ATE) $={round(delta_all,3)}\")\n",
    "    return delta_all"
   ]
  },
  {
   "cell_type": "code",
   "execution_count": 93,
   "metadata": {},
   "outputs": [],
   "source": [
    "def calc_bootstap_CI(df):\n",
    "    deltas = []\n",
    "    B = 400\n",
    "    alpha = 0.05\n",
    "    for i in range(B): # B=400 as defined earlier\n",
    "\n",
    "        temp_sample = df.sample(n=200, replace=True) # allow selecting each row more than once\n",
    "        # fitting the linear model\n",
    "        temp_mu1 = np.array(temp_sample[temp_sample['SMS_received']==1]['No-show_bin']).mean()\n",
    "        temp_mu0 = np.array(temp_sample[temp_sample['SMS_received']==0]['No-show_bin']).mean()\n",
    "        deltas.append(temp_mu1-temp_mu0)\n",
    "\n",
    "    deltas.sort()\n",
    "    CI_3 = [deltas[int(B*(alpha/2))], deltas[int(B*(1 - alpha/2))]]\n",
    "    printmd(\"**The CI for delta is:**\")\n",
    "    print(CI_3)\n",
    "    return CI_3"
   ]
  },
  {
   "cell_type": "code",
   "execution_count": 94,
   "metadata": {},
   "outputs": [
    {
     "data": {
      "text/markdown": [
       "$\\hat (ATE) $=-0.041"
      ],
      "text/plain": [
       "<IPython.core.display.Markdown object>"
      ]
     },
     "metadata": {},
     "output_type": "display_data"
    },
    {
     "data": {
      "text/markdown": [
       "**The CI for delta is:**"
      ],
      "text/plain": [
       "<IPython.core.display.Markdown object>"
      ]
     },
     "metadata": {},
     "output_type": "display_data"
    },
    {
     "name": "stdout",
     "output_type": "stream",
     "text": [
      "[-0.20543856740175762, 0.1173689333889584]\n"
     ]
    }
   ],
   "source": [
    "LR_ATE = calc_ATE(matches_data_frame_LR)\n",
    "LR_CI = calc_bootstap_CI(matches_data_frame_LR)"
   ]
  },
  {
   "cell_type": "code",
   "execution_count": 95,
   "metadata": {},
   "outputs": [],
   "source": [
    "res_dict['Logistic Regression Matching'] = [LR_ATE, LR_CI]"
   ]
  },
  {
   "cell_type": "code",
   "execution_count": 96,
   "metadata": {},
   "outputs": [
    {
     "data": {
      "text/plain": [
       "SMS_received\n",
       "0    AxesSubplot(0.125,0.125;0.775x0.755)\n",
       "1    AxesSubplot(0.125,0.125;0.775x0.755)\n",
       "Name: propensity, dtype: object"
      ]
     },
     "execution_count": 96,
     "metadata": {},
     "output_type": "execute_result"
    },
    {
     "data": {
      "image/png": "[encoded data removed]",
      "text/plain": [
       "<Figure size 432x288 with 1 Axes>"
      ]
     },
     "metadata": {
      "needs_background": "light"
     },
     "output_type": "display_data"
    }
   ],
   "source": [
    "GBT_sr = pd.Series(trees_propensity).rename(\"propensity\", inplace=True)\n",
    "df_GBT = cleaned_df.join(GBT_sr)\n",
    "matches_GBT = matching(label=treatment,\n",
    "                   propensity=GBT_sr,\n",
    "                   calipher=0.1,\n",
    "                   replace=True)\n",
    "matches_data_frame_GBT = matching_to_dataframe(match=matches_GBT,\n",
    "                                           covariates=df_GBT,\n",
    "                                           remove_duplicates=False)\n",
    "\n",
    "matches_data_frame_GBT.groupby(\"SMS_received\")[\"propensity\"].plot(kind=\"hist\", sharex=True, range=(0,1), bins=20, alpha=0.75, title=\"Gradient Boosted Trees 1 Matching Common Balance\")"
   ]
  },
  {
   "cell_type": "code",
   "execution_count": 99,
   "metadata": {},
   "outputs": [
    {
     "data": {
      "text/html": [
       "<div>\n",
       "<style scoped>\n",
       "    .dataframe tbody tr th:only-of-type {\n",
       "        vertical-align: middle;\n",
       "    }\n",
       "\n",
       "    .dataframe tbody tr th {\n",
       "        vertical-align: top;\n",
       "    }\n",
       "\n",
       "    .dataframe thead tr th {\n",
       "        text-align: left;\n",
       "    }\n",
       "</style>\n",
       "<table border=\"1\" class=\"dataframe\">\n",
       "  <thead>\n",
       "    <tr>\n",
       "      <th></th>\n",
       "      <th></th>\n",
       "      <th colspan=\"4\" halign=\"left\">value</th>\n",
       "    </tr>\n",
       "    <tr>\n",
       "      <th></th>\n",
       "      <th>SMS_received</th>\n",
       "      <th colspan=\"2\" halign=\"left\">0</th>\n",
       "      <th colspan=\"2\" halign=\"left\">1</th>\n",
       "    </tr>\n",
       "    <tr>\n",
       "      <th></th>\n",
       "      <th>variable</th>\n",
       "      <th>%</th>\n",
       "      <th>No.</th>\n",
       "      <th>%</th>\n",
       "      <th>No.</th>\n",
       "    </tr>\n",
       "  </thead>\n",
       "  <tbody>\n",
       "    <tr>\n",
       "      <th rowspan=\"2\" valign=\"top\">Gender</th>\n",
       "      <th>F</th>\n",
       "      <td>67.55</td>\n",
       "      <td>5732.0</td>\n",
       "      <td>72.16</td>\n",
       "      <td>21653.0</td>\n",
       "    </tr>\n",
       "    <tr>\n",
       "      <th>M</th>\n",
       "      <td>32.45</td>\n",
       "      <td>2754.0</td>\n",
       "      <td>27.84</td>\n",
       "      <td>8355.0</td>\n",
       "    </tr>\n",
       "    <tr>\n",
       "      <th rowspan=\"2\" valign=\"top\">Scholarship</th>\n",
       "      <th>0</th>\n",
       "      <td>89.38</td>\n",
       "      <td>7585.0</td>\n",
       "      <td>89.96</td>\n",
       "      <td>26996.0</td>\n",
       "    </tr>\n",
       "    <tr>\n",
       "      <th>1</th>\n",
       "      <td>10.62</td>\n",
       "      <td>901.0</td>\n",
       "      <td>10.04</td>\n",
       "      <td>3012.0</td>\n",
       "    </tr>\n",
       "    <tr>\n",
       "      <th rowspan=\"2\" valign=\"top\">Hipertension</th>\n",
       "      <th>0</th>\n",
       "      <td>70.93</td>\n",
       "      <td>6019.0</td>\n",
       "      <td>77.07</td>\n",
       "      <td>23126.0</td>\n",
       "    </tr>\n",
       "    <tr>\n",
       "      <th>1</th>\n",
       "      <td>29.07</td>\n",
       "      <td>2467.0</td>\n",
       "      <td>22.93</td>\n",
       "      <td>6882.0</td>\n",
       "    </tr>\n",
       "    <tr>\n",
       "      <th rowspan=\"2\" valign=\"top\">Diabetes</th>\n",
       "      <th>0</th>\n",
       "      <td>93.50</td>\n",
       "      <td>7934.0</td>\n",
       "      <td>92.97</td>\n",
       "      <td>27899.0</td>\n",
       "    </tr>\n",
       "    <tr>\n",
       "      <th>1</th>\n",
       "      <td>6.50</td>\n",
       "      <td>552.0</td>\n",
       "      <td>7.03</td>\n",
       "      <td>2109.0</td>\n",
       "    </tr>\n",
       "    <tr>\n",
       "      <th rowspan=\"2\" valign=\"top\">Alcoholism</th>\n",
       "      <th>0</th>\n",
       "      <td>97.56</td>\n",
       "      <td>8279.0</td>\n",
       "      <td>97.06</td>\n",
       "      <td>29126.0</td>\n",
       "    </tr>\n",
       "    <tr>\n",
       "      <th>1</th>\n",
       "      <td>2.44</td>\n",
       "      <td>207.0</td>\n",
       "      <td>2.94</td>\n",
       "      <td>882.0</td>\n",
       "    </tr>\n",
       "    <tr>\n",
       "      <th rowspan=\"2\" valign=\"top\">Handcap</th>\n",
       "      <th>0</th>\n",
       "      <td>99.53</td>\n",
       "      <td>8446.0</td>\n",
       "      <td>98.61</td>\n",
       "      <td>29591.0</td>\n",
       "    </tr>\n",
       "    <tr>\n",
       "      <th>1</th>\n",
       "      <td>0.47</td>\n",
       "      <td>40.0</td>\n",
       "      <td>1.39</td>\n",
       "      <td>417.0</td>\n",
       "    </tr>\n",
       "    <tr>\n",
       "      <th rowspan=\"14\" valign=\"top\">time_delta_weeks</th>\n",
       "      <th>0</th>\n",
       "      <td>37.37</td>\n",
       "      <td>3171.0</td>\n",
       "      <td>22.83</td>\n",
       "      <td>6850.0</td>\n",
       "    </tr>\n",
       "    <tr>\n",
       "      <th>1</th>\n",
       "      <td>17.15</td>\n",
       "      <td>1455.0</td>\n",
       "      <td>22.65</td>\n",
       "      <td>6797.0</td>\n",
       "    </tr>\n",
       "    <tr>\n",
       "      <th>2</th>\n",
       "      <td>12.63</td>\n",
       "      <td>1072.0</td>\n",
       "      <td>15.01</td>\n",
       "      <td>4503.0</td>\n",
       "    </tr>\n",
       "    <tr>\n",
       "      <th>3</th>\n",
       "      <td>13.33</td>\n",
       "      <td>1131.0</td>\n",
       "      <td>13.62</td>\n",
       "      <td>4088.0</td>\n",
       "    </tr>\n",
       "    <tr>\n",
       "      <th>4</th>\n",
       "      <td>10.35</td>\n",
       "      <td>878.0</td>\n",
       "      <td>10.31</td>\n",
       "      <td>3093.0</td>\n",
       "    </tr>\n",
       "    <tr>\n",
       "      <th>5</th>\n",
       "      <td>1.66</td>\n",
       "      <td>141.0</td>\n",
       "      <td>4.94</td>\n",
       "      <td>1483.0</td>\n",
       "    </tr>\n",
       "    <tr>\n",
       "      <th>6</th>\n",
       "      <td>0.66</td>\n",
       "      <td>56.0</td>\n",
       "      <td>4.03</td>\n",
       "      <td>1208.0</td>\n",
       "    </tr>\n",
       "    <tr>\n",
       "      <th>7</th>\n",
       "      <td>2.72</td>\n",
       "      <td>231.0</td>\n",
       "      <td>1.73</td>\n",
       "      <td>518.0</td>\n",
       "    </tr>\n",
       "    <tr>\n",
       "      <th>8</th>\n",
       "      <td>0.62</td>\n",
       "      <td>53.0</td>\n",
       "      <td>1.72</td>\n",
       "      <td>515.0</td>\n",
       "    </tr>\n",
       "    <tr>\n",
       "      <th>9</th>\n",
       "      <td>0.92</td>\n",
       "      <td>78.0</td>\n",
       "      <td>1.73</td>\n",
       "      <td>518.0</td>\n",
       "    </tr>\n",
       "    <tr>\n",
       "      <th>10</th>\n",
       "      <td>1.25</td>\n",
       "      <td>106.0</td>\n",
       "      <td>0.70</td>\n",
       "      <td>209.0</td>\n",
       "    </tr>\n",
       "    <tr>\n",
       "      <th>11</th>\n",
       "      <td>0.05</td>\n",
       "      <td>4.0</td>\n",
       "      <td>0.13</td>\n",
       "      <td>40.0</td>\n",
       "    </tr>\n",
       "    <tr>\n",
       "      <th>12</th>\n",
       "      <td>1.30</td>\n",
       "      <td>110.0</td>\n",
       "      <td>0.52</td>\n",
       "      <td>156.0</td>\n",
       "    </tr>\n",
       "    <tr>\n",
       "      <th>13</th>\n",
       "      <td>NaN</td>\n",
       "      <td>NaN</td>\n",
       "      <td>0.10</td>\n",
       "      <td>30.0</td>\n",
       "    </tr>\n",
       "    <tr>\n",
       "      <th rowspan=\"9\" valign=\"top\">Age_decade</th>\n",
       "      <th>1</th>\n",
       "      <td>7.21</td>\n",
       "      <td>612.0</td>\n",
       "      <td>6.92</td>\n",
       "      <td>2076.0</td>\n",
       "    </tr>\n",
       "    <tr>\n",
       "      <th>2</th>\n",
       "      <td>21.86</td>\n",
       "      <td>1855.0</td>\n",
       "      <td>15.22</td>\n",
       "      <td>4566.0</td>\n",
       "    </tr>\n",
       "    <tr>\n",
       "      <th>3</th>\n",
       "      <td>16.13</td>\n",
       "      <td>1369.0</td>\n",
       "      <td>18.80</td>\n",
       "      <td>5641.0</td>\n",
       "    </tr>\n",
       "    <tr>\n",
       "      <th>4</th>\n",
       "      <td>15.60</td>\n",
       "      <td>1324.0</td>\n",
       "      <td>15.64</td>\n",
       "      <td>4694.0</td>\n",
       "    </tr>\n",
       "    <tr>\n",
       "      <th>5</th>\n",
       "      <td>14.58</td>\n",
       "      <td>1237.0</td>\n",
       "      <td>19.62</td>\n",
       "      <td>5889.0</td>\n",
       "    </tr>\n",
       "    <tr>\n",
       "      <th>6</th>\n",
       "      <td>10.00</td>\n",
       "      <td>849.0</td>\n",
       "      <td>14.86</td>\n",
       "      <td>4458.0</td>\n",
       "    </tr>\n",
       "    <tr>\n",
       "      <th>7</th>\n",
       "      <td>7.31</td>\n",
       "      <td>620.0</td>\n",
       "      <td>6.12</td>\n",
       "      <td>1837.0</td>\n",
       "    </tr>\n",
       "    <tr>\n",
       "      <th>8</th>\n",
       "      <td>5.61</td>\n",
       "      <td>476.0</td>\n",
       "      <td>2.51</td>\n",
       "      <td>753.0</td>\n",
       "    </tr>\n",
       "    <tr>\n",
       "      <th>9</th>\n",
       "      <td>1.70</td>\n",
       "      <td>144.0</td>\n",
       "      <td>0.31</td>\n",
       "      <td>94.0</td>\n",
       "    </tr>\n",
       "    <tr>\n",
       "      <th rowspan=\"2\" valign=\"top\">No-show</th>\n",
       "      <th>No</th>\n",
       "      <td>67.26</td>\n",
       "      <td>5708.0</td>\n",
       "      <td>72.54</td>\n",
       "      <td>21768.0</td>\n",
       "    </tr>\n",
       "    <tr>\n",
       "      <th>Yes</th>\n",
       "      <td>32.74</td>\n",
       "      <td>2778.0</td>\n",
       "      <td>27.46</td>\n",
       "      <td>8240.0</td>\n",
       "    </tr>\n",
       "  </tbody>\n",
       "</table>\n",
       "</div>"
      ],
      "text/plain": [
       "                      value                        \n",
       "SMS_received              0              1         \n",
       "variable                  %     No.      %      No.\n",
       "Gender           F    67.55  5732.0  72.16  21653.0\n",
       "                 M    32.45  2754.0  27.84   8355.0\n",
       "Scholarship      0    89.38  7585.0  89.96  26996.0\n",
       "                 1    10.62   901.0  10.04   3012.0\n",
       "Hipertension     0    70.93  6019.0  77.07  23126.0\n",
       "                 1    29.07  2467.0  22.93   6882.0\n",
       "Diabetes         0    93.50  7934.0  92.97  27899.0\n",
       "                 1     6.50   552.0   7.03   2109.0\n",
       "Alcoholism       0    97.56  8279.0  97.06  29126.0\n",
       "                 1     2.44   207.0   2.94    882.0\n",
       "Handcap          0    99.53  8446.0  98.61  29591.0\n",
       "                 1     0.47    40.0   1.39    417.0\n",
       "time_delta_weeks 0    37.37  3171.0  22.83   6850.0\n",
       "                 1    17.15  1455.0  22.65   6797.0\n",
       "                 2    12.63  1072.0  15.01   4503.0\n",
       "                 3    13.33  1131.0  13.62   4088.0\n",
       "                 4    10.35   878.0  10.31   3093.0\n",
       "                 5     1.66   141.0   4.94   1483.0\n",
       "                 6     0.66    56.0   4.03   1208.0\n",
       "                 7     2.72   231.0   1.73    518.0\n",
       "                 8     0.62    53.0   1.72    515.0\n",
       "                 9     0.92    78.0   1.73    518.0\n",
       "                 10    1.25   106.0   0.70    209.0\n",
       "                 11    0.05     4.0   0.13     40.0\n",
       "                 12    1.30   110.0   0.52    156.0\n",
       "                 13     NaN     NaN   0.10     30.0\n",
       "Age_decade       1     7.21   612.0   6.92   2076.0\n",
       "                 2    21.86  1855.0  15.22   4566.0\n",
       "                 3    16.13  1369.0  18.80   5641.0\n",
       "                 4    15.60  1324.0  15.64   4694.0\n",
       "                 5    14.58  1237.0  19.62   5889.0\n",
       "                 6    10.00   849.0  14.86   4458.0\n",
       "                 7     7.31   620.0   6.12   1837.0\n",
       "                 8     5.61   476.0   2.51    753.0\n",
       "                 9     1.70   144.0   0.31     94.0\n",
       "No-show          No   67.26  5708.0  72.54  21768.0\n",
       "                 Yes  32.74  2778.0  27.46   8240.0"
      ]
     },
     "execution_count": 99,
     "metadata": {},
     "output_type": "execute_result"
    }
   ],
   "source": [
    "GBT_balance_table, GBT_chi = print_balance_table(matches_data_frame_GBT)\n",
    "GBT_balance_table"
   ]
  },
  {
   "cell_type": "code",
   "execution_count": 100,
   "metadata": {},
   "outputs": [
    {
     "data": {
      "text/html": [
       "<div>\n",
       "<style scoped>\n",
       "    .dataframe tbody tr th:only-of-type {\n",
       "        vertical-align: middle;\n",
       "    }\n",
       "\n",
       "    .dataframe tbody tr th {\n",
       "        vertical-align: top;\n",
       "    }\n",
       "\n",
       "    .dataframe thead th {\n",
       "        text-align: right;\n",
       "    }\n",
       "</style>\n",
       "<table border=\"1\" class=\"dataframe\">\n",
       "  <thead>\n",
       "    <tr style=\"text-align: right;\">\n",
       "      <th></th>\n",
       "      <th></th>\n",
       "      <th>Chi Square</th>\n",
       "      <th>p value</th>\n",
       "    </tr>\n",
       "  </thead>\n",
       "  <tbody>\n",
       "    <tr>\n",
       "      <th>Gender</th>\n",
       "      <th>Gender</th>\n",
       "      <td>68.28</td>\n",
       "      <td>&lt;0.005</td>\n",
       "    </tr>\n",
       "    <tr>\n",
       "      <th>Scholarship</th>\n",
       "      <th>Scholarship</th>\n",
       "      <td>2.38</td>\n",
       "      <td>0.123</td>\n",
       "    </tr>\n",
       "    <tr>\n",
       "      <th>Hipertension</th>\n",
       "      <th>Hipertension</th>\n",
       "      <td>135.18</td>\n",
       "      <td>&lt;0.005</td>\n",
       "    </tr>\n",
       "    <tr>\n",
       "      <th>Diabetes</th>\n",
       "      <th>Diabetes</th>\n",
       "      <td>2.73</td>\n",
       "      <td>0.098</td>\n",
       "    </tr>\n",
       "    <tr>\n",
       "      <th>Alcoholism</th>\n",
       "      <th>Alcoholism</th>\n",
       "      <td>5.83</td>\n",
       "      <td>0.016</td>\n",
       "    </tr>\n",
       "    <tr>\n",
       "      <th>Handcap</th>\n",
       "      <th>Handcap</th>\n",
       "      <td>46.77</td>\n",
       "      <td>&lt;0.005</td>\n",
       "    </tr>\n",
       "    <tr>\n",
       "      <th>time_delta_weeks</th>\n",
       "      <th>time_delta_weeks</th>\n",
       "      <td>NaN</td>\n",
       "      <td>&lt;0.005</td>\n",
       "    </tr>\n",
       "    <tr>\n",
       "      <th>Age_decade</th>\n",
       "      <th>Age_decade</th>\n",
       "      <td>824.16</td>\n",
       "      <td>&lt;0.005</td>\n",
       "    </tr>\n",
       "    <tr>\n",
       "      <th>No-show</th>\n",
       "      <th>No-show</th>\n",
       "      <td>89.91</td>\n",
       "      <td>&lt;0.005</td>\n",
       "    </tr>\n",
       "  </tbody>\n",
       "</table>\n",
       "</div>"
      ],
      "text/plain": [
       "                                   Chi Square p value\n",
       "Gender           Gender                 68.28  <0.005\n",
       "Scholarship      Scholarship             2.38   0.123\n",
       "Hipertension     Hipertension          135.18  <0.005\n",
       "Diabetes         Diabetes                2.73   0.098\n",
       "Alcoholism       Alcoholism              5.83   0.016\n",
       "Handcap          Handcap                46.77  <0.005\n",
       "time_delta_weeks time_delta_weeks         NaN  <0.005\n",
       "Age_decade       Age_decade            824.16  <0.005\n",
       "No-show          No-show                89.91  <0.005"
      ]
     },
     "execution_count": 100,
     "metadata": {},
     "output_type": "execute_result"
    }
   ],
   "source": [
    "GBT_chi"
   ]
  },
  {
   "cell_type": "code",
   "execution_count": 101,
   "metadata": {},
   "outputs": [
    {
     "data": {
      "text/markdown": [
       "$\\hat (ATE) $=-0.053"
      ],
      "text/plain": [
       "<IPython.core.display.Markdown object>"
      ]
     },
     "metadata": {},
     "output_type": "display_data"
    },
    {
     "data": {
      "text/markdown": [
       "**The CI for delta is:**"
      ],
      "text/plain": [
       "<IPython.core.display.Markdown object>"
      ]
     },
     "metadata": {},
     "output_type": "display_data"
    },
    {
     "name": "stdout",
     "output_type": "stream",
     "text": [
      "[-0.2087774294670846, 0.08666666666666667]\n"
     ]
    }
   ],
   "source": [
    "GBT_ATE = calc_ATE(matches_data_frame_GBT)\n",
    "GBT_CI = calc_bootstap_CI(matches_data_frame_GBT)"
   ]
  },
  {
   "cell_type": "code",
   "execution_count": 102,
   "metadata": {},
   "outputs": [],
   "source": [
    "res_dict['Gradient Boosted Trees Matching 1'] = [GBT_ATE, GBT_CI]"
   ]
  },
  {
   "cell_type": "code",
   "execution_count": 419,
   "metadata": {},
   "outputs": [
    {
     "data": {
      "text/plain": [
       "[-0.052769273311232046, [-0.22790253225035834, 0.10897435897435898]]"
      ]
     },
     "execution_count": 419,
     "metadata": {},
     "output_type": "execute_result"
    }
   ],
   "source": [
    "res_dict['Gradient Boosted Trees Matching']"
   ]
  },
  {
   "cell_type": "code",
   "execution_count": 103,
   "metadata": {},
   "outputs": [
    {
     "data": {
      "text/plain": [
       "SMS_received\n",
       "0    AxesSubplot(0.125,0.125;0.775x0.755)\n",
       "1    AxesSubplot(0.125,0.125;0.775x0.755)\n",
       "Name: propensity, dtype: object"
      ]
     },
     "execution_count": 103,
     "metadata": {},
     "output_type": "execute_result"
    },
    {
     "data": {
      "image/png": "[encoded data removed]",
      "text/plain": [
       "<Figure size 432x288 with 1 Axes>"
      ]
     },
     "metadata": {
      "needs_background": "light"
     },
     "output_type": "display_data"
    }
   ],
   "source": [
    "GBT3_sr = pd.Series(trees_propensity_3).rename(\"propensity\", inplace=True)\n",
    "df_GBT3 = cleaned_df.join(GBT3_sr)\n",
    "matches_GBT3 = matching(label=treatment,\n",
    "                   propensity=GBT3_sr,\n",
    "                   calipher=0.1,\n",
    "                   replace=True)\n",
    "matches_data_frame_GBT3 = matching_to_dataframe(match=matches_GBT3,\n",
    "                                           covariates=df_GBT3,\n",
    "                                           remove_duplicates=False)\n",
    "\n",
    "matches_data_frame_GBT3.groupby(\"SMS_received\")[\"propensity\"].plot(kind=\"hist\", sharex=True, range=(0,1), bins=20, alpha=0.75, title=\"Gradient Boosted Trees 3 Matching Common Balance\")"
   ]
  },
  {
   "cell_type": "code",
   "execution_count": 104,
   "metadata": {},
   "outputs": [
    {
     "data": {
      "text/html": [
       "<div>\n",
       "<style scoped>\n",
       "    .dataframe tbody tr th:only-of-type {\n",
       "        vertical-align: middle;\n",
       "    }\n",
       "\n",
       "    .dataframe tbody tr th {\n",
       "        vertical-align: top;\n",
       "    }\n",
       "\n",
       "    .dataframe thead tr th {\n",
       "        text-align: left;\n",
       "    }\n",
       "</style>\n",
       "<table border=\"1\" class=\"dataframe\">\n",
       "  <thead>\n",
       "    <tr>\n",
       "      <th></th>\n",
       "      <th></th>\n",
       "      <th colspan=\"4\" halign=\"left\">value</th>\n",
       "    </tr>\n",
       "    <tr>\n",
       "      <th></th>\n",
       "      <th>SMS_received</th>\n",
       "      <th colspan=\"2\" halign=\"left\">0</th>\n",
       "      <th colspan=\"2\" halign=\"left\">1</th>\n",
       "    </tr>\n",
       "    <tr>\n",
       "      <th></th>\n",
       "      <th>variable</th>\n",
       "      <th>%</th>\n",
       "      <th>No.</th>\n",
       "      <th>%</th>\n",
       "      <th>No.</th>\n",
       "    </tr>\n",
       "  </thead>\n",
       "  <tbody>\n",
       "    <tr>\n",
       "      <th rowspan=\"2\" valign=\"top\">Gender</th>\n",
       "      <th>F</th>\n",
       "      <td>67.55</td>\n",
       "      <td>5732.0</td>\n",
       "      <td>72.16</td>\n",
       "      <td>21653.0</td>\n",
       "    </tr>\n",
       "    <tr>\n",
       "      <th>M</th>\n",
       "      <td>32.45</td>\n",
       "      <td>2754.0</td>\n",
       "      <td>27.84</td>\n",
       "      <td>8355.0</td>\n",
       "    </tr>\n",
       "    <tr>\n",
       "      <th rowspan=\"2\" valign=\"top\">Scholarship</th>\n",
       "      <th>0</th>\n",
       "      <td>89.38</td>\n",
       "      <td>7585.0</td>\n",
       "      <td>89.96</td>\n",
       "      <td>26996.0</td>\n",
       "    </tr>\n",
       "    <tr>\n",
       "      <th>1</th>\n",
       "      <td>10.62</td>\n",
       "      <td>901.0</td>\n",
       "      <td>10.04</td>\n",
       "      <td>3012.0</td>\n",
       "    </tr>\n",
       "    <tr>\n",
       "      <th rowspan=\"2\" valign=\"top\">Hipertension</th>\n",
       "      <th>0</th>\n",
       "      <td>70.93</td>\n",
       "      <td>6019.0</td>\n",
       "      <td>77.07</td>\n",
       "      <td>23126.0</td>\n",
       "    </tr>\n",
       "    <tr>\n",
       "      <th>1</th>\n",
       "      <td>29.07</td>\n",
       "      <td>2467.0</td>\n",
       "      <td>22.93</td>\n",
       "      <td>6882.0</td>\n",
       "    </tr>\n",
       "    <tr>\n",
       "      <th rowspan=\"2\" valign=\"top\">Diabetes</th>\n",
       "      <th>0</th>\n",
       "      <td>93.50</td>\n",
       "      <td>7934.0</td>\n",
       "      <td>92.97</td>\n",
       "      <td>27899.0</td>\n",
       "    </tr>\n",
       "    <tr>\n",
       "      <th>1</th>\n",
       "      <td>6.50</td>\n",
       "      <td>552.0</td>\n",
       "      <td>7.03</td>\n",
       "      <td>2109.0</td>\n",
       "    </tr>\n",
       "    <tr>\n",
       "      <th rowspan=\"2\" valign=\"top\">Alcoholism</th>\n",
       "      <th>0</th>\n",
       "      <td>97.56</td>\n",
       "      <td>8279.0</td>\n",
       "      <td>97.06</td>\n",
       "      <td>29126.0</td>\n",
       "    </tr>\n",
       "    <tr>\n",
       "      <th>1</th>\n",
       "      <td>2.44</td>\n",
       "      <td>207.0</td>\n",
       "      <td>2.94</td>\n",
       "      <td>882.0</td>\n",
       "    </tr>\n",
       "    <tr>\n",
       "      <th rowspan=\"2\" valign=\"top\">Handcap</th>\n",
       "      <th>0</th>\n",
       "      <td>99.53</td>\n",
       "      <td>8446.0</td>\n",
       "      <td>98.61</td>\n",
       "      <td>29591.0</td>\n",
       "    </tr>\n",
       "    <tr>\n",
       "      <th>1</th>\n",
       "      <td>0.47</td>\n",
       "      <td>40.0</td>\n",
       "      <td>1.39</td>\n",
       "      <td>417.0</td>\n",
       "    </tr>\n",
       "    <tr>\n",
       "      <th rowspan=\"14\" valign=\"top\">time_delta_weeks</th>\n",
       "      <th>0</th>\n",
       "      <td>37.37</td>\n",
       "      <td>3171.0</td>\n",
       "      <td>22.83</td>\n",
       "      <td>6850.0</td>\n",
       "    </tr>\n",
       "    <tr>\n",
       "      <th>1</th>\n",
       "      <td>17.15</td>\n",
       "      <td>1455.0</td>\n",
       "      <td>22.65</td>\n",
       "      <td>6797.0</td>\n",
       "    </tr>\n",
       "    <tr>\n",
       "      <th>2</th>\n",
       "      <td>12.63</td>\n",
       "      <td>1072.0</td>\n",
       "      <td>15.01</td>\n",
       "      <td>4503.0</td>\n",
       "    </tr>\n",
       "    <tr>\n",
       "      <th>3</th>\n",
       "      <td>13.33</td>\n",
       "      <td>1131.0</td>\n",
       "      <td>13.62</td>\n",
       "      <td>4088.0</td>\n",
       "    </tr>\n",
       "    <tr>\n",
       "      <th>4</th>\n",
       "      <td>10.35</td>\n",
       "      <td>878.0</td>\n",
       "      <td>10.31</td>\n",
       "      <td>3093.0</td>\n",
       "    </tr>\n",
       "    <tr>\n",
       "      <th>5</th>\n",
       "      <td>1.66</td>\n",
       "      <td>141.0</td>\n",
       "      <td>4.94</td>\n",
       "      <td>1483.0</td>\n",
       "    </tr>\n",
       "    <tr>\n",
       "      <th>6</th>\n",
       "      <td>0.66</td>\n",
       "      <td>56.0</td>\n",
       "      <td>4.03</td>\n",
       "      <td>1208.0</td>\n",
       "    </tr>\n",
       "    <tr>\n",
       "      <th>7</th>\n",
       "      <td>2.72</td>\n",
       "      <td>231.0</td>\n",
       "      <td>1.73</td>\n",
       "      <td>518.0</td>\n",
       "    </tr>\n",
       "    <tr>\n",
       "      <th>8</th>\n",
       "      <td>0.62</td>\n",
       "      <td>53.0</td>\n",
       "      <td>1.72</td>\n",
       "      <td>515.0</td>\n",
       "    </tr>\n",
       "    <tr>\n",
       "      <th>9</th>\n",
       "      <td>0.92</td>\n",
       "      <td>78.0</td>\n",
       "      <td>1.73</td>\n",
       "      <td>518.0</td>\n",
       "    </tr>\n",
       "    <tr>\n",
       "      <th>10</th>\n",
       "      <td>1.25</td>\n",
       "      <td>106.0</td>\n",
       "      <td>0.70</td>\n",
       "      <td>209.0</td>\n",
       "    </tr>\n",
       "    <tr>\n",
       "      <th>11</th>\n",
       "      <td>0.05</td>\n",
       "      <td>4.0</td>\n",
       "      <td>0.13</td>\n",
       "      <td>40.0</td>\n",
       "    </tr>\n",
       "    <tr>\n",
       "      <th>12</th>\n",
       "      <td>1.30</td>\n",
       "      <td>110.0</td>\n",
       "      <td>0.52</td>\n",
       "      <td>156.0</td>\n",
       "    </tr>\n",
       "    <tr>\n",
       "      <th>13</th>\n",
       "      <td>NaN</td>\n",
       "      <td>NaN</td>\n",
       "      <td>0.10</td>\n",
       "      <td>30.0</td>\n",
       "    </tr>\n",
       "    <tr>\n",
       "      <th rowspan=\"9\" valign=\"top\">Age_decade</th>\n",
       "      <th>1</th>\n",
       "      <td>7.21</td>\n",
       "      <td>612.0</td>\n",
       "      <td>6.92</td>\n",
       "      <td>2076.0</td>\n",
       "    </tr>\n",
       "    <tr>\n",
       "      <th>2</th>\n",
       "      <td>21.86</td>\n",
       "      <td>1855.0</td>\n",
       "      <td>15.22</td>\n",
       "      <td>4566.0</td>\n",
       "    </tr>\n",
       "    <tr>\n",
       "      <th>3</th>\n",
       "      <td>16.13</td>\n",
       "      <td>1369.0</td>\n",
       "      <td>18.80</td>\n",
       "      <td>5641.0</td>\n",
       "    </tr>\n",
       "    <tr>\n",
       "      <th>4</th>\n",
       "      <td>15.60</td>\n",
       "      <td>1324.0</td>\n",
       "      <td>15.64</td>\n",
       "      <td>4694.0</td>\n",
       "    </tr>\n",
       "    <tr>\n",
       "      <th>5</th>\n",
       "      <td>14.58</td>\n",
       "      <td>1237.0</td>\n",
       "      <td>19.62</td>\n",
       "      <td>5889.0</td>\n",
       "    </tr>\n",
       "    <tr>\n",
       "      <th>6</th>\n",
       "      <td>10.00</td>\n",
       "      <td>849.0</td>\n",
       "      <td>14.86</td>\n",
       "      <td>4458.0</td>\n",
       "    </tr>\n",
       "    <tr>\n",
       "      <th>7</th>\n",
       "      <td>7.31</td>\n",
       "      <td>620.0</td>\n",
       "      <td>6.12</td>\n",
       "      <td>1837.0</td>\n",
       "    </tr>\n",
       "    <tr>\n",
       "      <th>8</th>\n",
       "      <td>5.61</td>\n",
       "      <td>476.0</td>\n",
       "      <td>2.51</td>\n",
       "      <td>753.0</td>\n",
       "    </tr>\n",
       "    <tr>\n",
       "      <th>9</th>\n",
       "      <td>1.70</td>\n",
       "      <td>144.0</td>\n",
       "      <td>0.31</td>\n",
       "      <td>94.0</td>\n",
       "    </tr>\n",
       "    <tr>\n",
       "      <th rowspan=\"2\" valign=\"top\">No-show</th>\n",
       "      <th>No</th>\n",
       "      <td>67.26</td>\n",
       "      <td>5708.0</td>\n",
       "      <td>72.54</td>\n",
       "      <td>21768.0</td>\n",
       "    </tr>\n",
       "    <tr>\n",
       "      <th>Yes</th>\n",
       "      <td>32.74</td>\n",
       "      <td>2778.0</td>\n",
       "      <td>27.46</td>\n",
       "      <td>8240.0</td>\n",
       "    </tr>\n",
       "  </tbody>\n",
       "</table>\n",
       "</div>"
      ],
      "text/plain": [
       "                      value                        \n",
       "SMS_received              0              1         \n",
       "variable                  %     No.      %      No.\n",
       "Gender           F    67.55  5732.0  72.16  21653.0\n",
       "                 M    32.45  2754.0  27.84   8355.0\n",
       "Scholarship      0    89.38  7585.0  89.96  26996.0\n",
       "                 1    10.62   901.0  10.04   3012.0\n",
       "Hipertension     0    70.93  6019.0  77.07  23126.0\n",
       "                 1    29.07  2467.0  22.93   6882.0\n",
       "Diabetes         0    93.50  7934.0  92.97  27899.0\n",
       "                 1     6.50   552.0   7.03   2109.0\n",
       "Alcoholism       0    97.56  8279.0  97.06  29126.0\n",
       "                 1     2.44   207.0   2.94    882.0\n",
       "Handcap          0    99.53  8446.0  98.61  29591.0\n",
       "                 1     0.47    40.0   1.39    417.0\n",
       "time_delta_weeks 0    37.37  3171.0  22.83   6850.0\n",
       "                 1    17.15  1455.0  22.65   6797.0\n",
       "                 2    12.63  1072.0  15.01   4503.0\n",
       "                 3    13.33  1131.0  13.62   4088.0\n",
       "                 4    10.35   878.0  10.31   3093.0\n",
       "                 5     1.66   141.0   4.94   1483.0\n",
       "                 6     0.66    56.0   4.03   1208.0\n",
       "                 7     2.72   231.0   1.73    518.0\n",
       "                 8     0.62    53.0   1.72    515.0\n",
       "                 9     0.92    78.0   1.73    518.0\n",
       "                 10    1.25   106.0   0.70    209.0\n",
       "                 11    0.05     4.0   0.13     40.0\n",
       "                 12    1.30   110.0   0.52    156.0\n",
       "                 13     NaN     NaN   0.10     30.0\n",
       "Age_decade       1     7.21   612.0   6.92   2076.0\n",
       "                 2    21.86  1855.0  15.22   4566.0\n",
       "                 3    16.13  1369.0  18.80   5641.0\n",
       "                 4    15.60  1324.0  15.64   4694.0\n",
       "                 5    14.58  1237.0  19.62   5889.0\n",
       "                 6    10.00   849.0  14.86   4458.0\n",
       "                 7     7.31   620.0   6.12   1837.0\n",
       "                 8     5.61   476.0   2.51    753.0\n",
       "                 9     1.70   144.0   0.31     94.0\n",
       "No-show          No   67.26  5708.0  72.54  21768.0\n",
       "                 Yes  32.74  2778.0  27.46   8240.0"
      ]
     },
     "execution_count": 104,
     "metadata": {},
     "output_type": "execute_result"
    }
   ],
   "source": [
    "GBT3_balance_table, GBT3_chi = print_balance_table(matches_data_frame_GBT)\n",
    "GBT3_balance_table"
   ]
  },
  {
   "cell_type": "code",
   "execution_count": 105,
   "metadata": {},
   "outputs": [
    {
     "data": {
      "text/html": [
       "<div>\n",
       "<style scoped>\n",
       "    .dataframe tbody tr th:only-of-type {\n",
       "        vertical-align: middle;\n",
       "    }\n",
       "\n",
       "    .dataframe tbody tr th {\n",
       "        vertical-align: top;\n",
       "    }\n",
       "\n",
       "    .dataframe thead th {\n",
       "        text-align: right;\n",
       "    }\n",
       "</style>\n",
       "<table border=\"1\" class=\"dataframe\">\n",
       "  <thead>\n",
       "    <tr style=\"text-align: right;\">\n",
       "      <th></th>\n",
       "      <th></th>\n",
       "      <th>Chi Square</th>\n",
       "      <th>p value</th>\n",
       "    </tr>\n",
       "  </thead>\n",
       "  <tbody>\n",
       "    <tr>\n",
       "      <th>Gender</th>\n",
       "      <th>Gender</th>\n",
       "      <td>68.28</td>\n",
       "      <td>&lt;0.005</td>\n",
       "    </tr>\n",
       "    <tr>\n",
       "      <th>Scholarship</th>\n",
       "      <th>Scholarship</th>\n",
       "      <td>2.38</td>\n",
       "      <td>0.123</td>\n",
       "    </tr>\n",
       "    <tr>\n",
       "      <th>Hipertension</th>\n",
       "      <th>Hipertension</th>\n",
       "      <td>135.18</td>\n",
       "      <td>&lt;0.005</td>\n",
       "    </tr>\n",
       "    <tr>\n",
       "      <th>Diabetes</th>\n",
       "      <th>Diabetes</th>\n",
       "      <td>2.73</td>\n",
       "      <td>0.098</td>\n",
       "    </tr>\n",
       "    <tr>\n",
       "      <th>Alcoholism</th>\n",
       "      <th>Alcoholism</th>\n",
       "      <td>5.83</td>\n",
       "      <td>0.016</td>\n",
       "    </tr>\n",
       "    <tr>\n",
       "      <th>Handcap</th>\n",
       "      <th>Handcap</th>\n",
       "      <td>46.77</td>\n",
       "      <td>&lt;0.005</td>\n",
       "    </tr>\n",
       "    <tr>\n",
       "      <th>time_delta_weeks</th>\n",
       "      <th>time_delta_weeks</th>\n",
       "      <td>NaN</td>\n",
       "      <td>&lt;0.005</td>\n",
       "    </tr>\n",
       "    <tr>\n",
       "      <th>Age_decade</th>\n",
       "      <th>Age_decade</th>\n",
       "      <td>824.16</td>\n",
       "      <td>&lt;0.005</td>\n",
       "    </tr>\n",
       "    <tr>\n",
       "      <th>No-show</th>\n",
       "      <th>No-show</th>\n",
       "      <td>89.91</td>\n",
       "      <td>&lt;0.005</td>\n",
       "    </tr>\n",
       "  </tbody>\n",
       "</table>\n",
       "</div>"
      ],
      "text/plain": [
       "                                   Chi Square p value\n",
       "Gender           Gender                 68.28  <0.005\n",
       "Scholarship      Scholarship             2.38   0.123\n",
       "Hipertension     Hipertension          135.18  <0.005\n",
       "Diabetes         Diabetes                2.73   0.098\n",
       "Alcoholism       Alcoholism              5.83   0.016\n",
       "Handcap          Handcap                46.77  <0.005\n",
       "time_delta_weeks time_delta_weeks         NaN  <0.005\n",
       "Age_decade       Age_decade            824.16  <0.005\n",
       "No-show          No-show                89.91  <0.005"
      ]
     },
     "execution_count": 105,
     "metadata": {},
     "output_type": "execute_result"
    }
   ],
   "source": [
    "GBT3_chi"
   ]
  },
  {
   "cell_type": "code",
   "execution_count": 107,
   "metadata": {},
   "outputs": [
    {
     "data": {
      "text/markdown": [
       "$\\hat (ATE) $=-0.028"
      ],
      "text/plain": [
       "<IPython.core.display.Markdown object>"
      ]
     },
     "metadata": {},
     "output_type": "display_data"
    },
    {
     "data": {
      "text/markdown": [
       "**The CI for delta is:**"
      ],
      "text/plain": [
       "<IPython.core.display.Markdown object>"
      ]
     },
     "metadata": {},
     "output_type": "display_data"
    },
    {
     "name": "stdout",
     "output_type": "stream",
     "text": [
      "[-0.18181818181818182, 0.12606921963416237]\n"
     ]
    }
   ],
   "source": [
    "GBT3_ATE = calc_ATE(matches_data_frame_GBT3)\n",
    "GBT3_CI = calc_bootstap_CI(matches_data_frame_GBT3)"
   ]
  },
  {
   "cell_type": "code",
   "execution_count": 108,
   "metadata": {},
   "outputs": [],
   "source": [
    "res_dict['Gradient Boosted Trees Matching 3'] = [GBT3_ATE, GBT3_CI]"
   ]
  },
  {
   "cell_type": "code",
   "execution_count": 109,
   "metadata": {},
   "outputs": [
    {
     "data": {
      "image/png": "[encoded data removed]",
      "text/plain": [
       "<Figure size 432x288 with 1 Axes>"
      ]
     },
     "metadata": {
      "needs_background": "light"
     },
     "output_type": "display_data"
    }
   ],
   "source": [
    "x = []\n",
    "errors = []\n",
    "est = []\n",
    "y = [1,2,3,4,5,6,7]\n",
    "for key, val in res_dict.items():\n",
    "    x.append(np.mean(val[1]))\n",
    "    errors.append((val[1][1]-val[1][0])/2)\n",
    "    est.append(val[0])\n",
    "plt.errorbar(x, y, xerr=errors, linestyle = 'None')\n",
    "plt.scatter(est,y)\n",
    "    \n",
    "#plt.legend(fontsize=16)\n",
    "plt.yticks((0, 1, 2, 3, 4, 5, 6,7,8), ('', *res_dict.keys(),''),fontsize=16)\n",
    "plt.title('ATE with Confidence Interval')\n",
    "plt.show()"
   ]
  },
  {
   "cell_type": "code",
   "execution_count": 427,
   "metadata": {},
   "outputs": [
    {
     "data": {
      "text/plain": [
       "[-0.05254793944875345,\n",
       " -0.049892884709609626,\n",
       " -0.037339191537379406,\n",
       " -0.03844320236725299,\n",
       " -0.05946408663799968]"
      ]
     },
     "execution_count": 427,
     "metadata": {},
     "output_type": "execute_result"
    }
   ],
   "source": [
    "x"
   ]
  },
  {
   "cell_type": "code",
   "execution_count": 426,
   "metadata": {},
   "outputs": [
    {
     "data": {
      "text/plain": [
       "[0.2403586665570386,\n",
       " 0.28135727090086965,\n",
       " 0.29972378953290096,\n",
       " 0.31618718833908704,\n",
       " 0.3368768912247173]"
      ]
     },
     "execution_count": 426,
     "metadata": {},
     "output_type": "execute_result"
    }
   ],
   "source": [
    "errors"
   ]
  },
  {
   "cell_type": "code",
   "execution_count": 123,
   "metadata": {},
   "outputs": [
    {
     "data": {
      "text/html": [
       "<div>\n",
       "<style scoped>\n",
       "    .dataframe tbody tr th:only-of-type {\n",
       "        vertical-align: middle;\n",
       "    }\n",
       "\n",
       "    .dataframe tbody tr th {\n",
       "        vertical-align: top;\n",
       "    }\n",
       "\n",
       "    .dataframe thead th {\n",
       "        text-align: right;\n",
       "    }\n",
       "</style>\n",
       "<table border=\"1\" class=\"dataframe\">\n",
       "  <thead>\n",
       "    <tr style=\"text-align: right;\">\n",
       "      <th></th>\n",
       "      <th>0</th>\n",
       "      <th>1</th>\n",
       "      <th>2</th>\n",
       "    </tr>\n",
       "  </thead>\n",
       "  <tbody>\n",
       "    <tr>\n",
       "      <th>Naive ATE</th>\n",
       "      <td>-0.046241</td>\n",
       "      <td>-0.182097</td>\n",
       "      <td>0.068747</td>\n",
       "    </tr>\n",
       "    <tr>\n",
       "      <th>Logistic Regression IPW</th>\n",
       "      <td>-0.049376</td>\n",
       "      <td>-0.203187</td>\n",
       "      <td>0.112313</td>\n",
       "    </tr>\n",
       "    <tr>\n",
       "      <th>Gradient Boosted trees 1 IPW</th>\n",
       "      <td>-0.047299</td>\n",
       "      <td>-0.216412</td>\n",
       "      <td>0.088801</td>\n",
       "    </tr>\n",
       "    <tr>\n",
       "      <th>Gradient Boosted trees 3 IPW</th>\n",
       "      <td>-0.041084</td>\n",
       "      <td>-0.208962</td>\n",
       "      <td>0.121299</td>\n",
       "    </tr>\n",
       "    <tr>\n",
       "      <th>Logistic Regression Matching</th>\n",
       "      <td>-0.041135</td>\n",
       "      <td>-0.205439</td>\n",
       "      <td>0.117369</td>\n",
       "    </tr>\n",
       "    <tr>\n",
       "      <th>Gradient Boosted Trees Matching 1</th>\n",
       "      <td>-0.052769</td>\n",
       "      <td>-0.208777</td>\n",
       "      <td>0.086667</td>\n",
       "    </tr>\n",
       "    <tr>\n",
       "      <th>Gradient Boosted Trees Matching 3</th>\n",
       "      <td>-0.027564</td>\n",
       "      <td>-0.181818</td>\n",
       "      <td>0.126069</td>\n",
       "    </tr>\n",
       "  </tbody>\n",
       "</table>\n",
       "</div>"
      ],
      "text/plain": [
       "                                          0         1         2\n",
       "Naive ATE                         -0.046241 -0.182097  0.068747\n",
       "Logistic Regression IPW           -0.049376 -0.203187  0.112313\n",
       "Gradient Boosted trees 1 IPW      -0.047299 -0.216412  0.088801\n",
       "Gradient Boosted trees 3 IPW      -0.041084 -0.208962  0.121299\n",
       "Logistic Regression Matching      -0.041135 -0.205439  0.117369\n",
       "Gradient Boosted Trees Matching 1 -0.052769 -0.208777  0.086667\n",
       "Gradient Boosted Trees Matching 3 -0.027564 -0.181818  0.126069"
      ]
     },
     "execution_count": 123,
     "metadata": {},
     "output_type": "execute_result"
    }
   ],
   "source": [
    "res_dict_mod = {}\n",
    "for key, value in res_dict.items():\n",
    "    res_dict_mod[key] = [value[0]] + value[1]\n",
    "res_pd = pd.DataFrame.from_dict(res_dict_mod).T\n",
    "res_pd"
   ]
  },
  {
   "cell_type": "code",
   "execution_count": null,
   "metadata": {},
   "outputs": [],
   "source": []
  }
 ],
 "metadata": {
  "kernelspec": {
   "display_name": "Python 3",
   "language": "python",
   "name": "python3"
  },
  "language_info": {
   "codemirror_mode": {
    "name": "ipython",
    "version": 3
   },
   "file_extension": ".py",
   "mimetype": "text/x-python",
   "name": "python",
   "nbconvert_exporter": "python",
   "pygments_lexer": "ipython3",
   "version": "3.8.5"
  }
 },
 "nbformat": 4,
 "nbformat_minor": 4
}
